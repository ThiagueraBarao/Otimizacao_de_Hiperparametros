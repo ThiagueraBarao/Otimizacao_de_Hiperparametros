{
  "nbformat": 4,
  "nbformat_minor": 0,
  "metadata": {
    "colab": {
      "name": "XGB_Otimizacao_Hiperparametros.ipynb",
      "provenance": [],
      "collapsed_sections": [],
      "toc_visible": true,
      "authorship_tag": "ABX9TyPFsfivT1fLJn+ouaIXA91+",
      "include_colab_link": true
    },
    "kernelspec": {
      "name": "python3",
      "display_name": "Python 3"
    }
  },
  "cells": [
    {
      "cell_type": "markdown",
      "metadata": {
        "id": "view-in-github",
        "colab_type": "text"
      },
      "source": [
        "<a href=\"https://colab.research.google.com/github/ThiagueraBarao/Otimizacao_de_Hiperparametros/blob/master/XGB_Otimizacao_Hiperparametros.ipynb\" target=\"_parent\"><img src=\"https://colab.research.google.com/assets/colab-badge.svg\" alt=\"Open In Colab\"/></a>"
      ]
    },
    {
      "cell_type": "markdown",
      "metadata": {
        "id": "2eb0vV5JvLQb",
        "colab_type": "text"
      },
      "source": [
        "# **Otimização de Hiperparâmetros**\n",
        "\n",
        "### Autor: Thiago do Carmo Nunes\n",
        "### Acesse em: [thiagocarmonunes.com.br](https://www.thiagocarmonunes.com.br/)\n",
        "#### Publicado em :  19-Jul-2020"
      ]
    },
    {
      "cell_type": "markdown",
      "metadata": {
        "id": "9DsPSsCwvRT9",
        "colab_type": "text"
      },
      "source": [
        "# **Aplicando o conhecimento em uma XGB**"
      ]
    },
    {
      "cell_type": "code",
      "metadata": {
        "id": "ATGJcjBKvLmf",
        "colab_type": "code",
        "colab": {}
      },
      "source": [
        "#Pacotes Utilizados\n",
        "import pandas as pd\n",
        "import numpy as np\n",
        "from sklearn.model_selection import train_test_split\n",
        "from sklearn import tree, metrics\n",
        "from sklearn.model_selection import GridSearchCV,RandomizedSearchCV,cross_val_score,StratifiedKFold\n",
        "from sklearn.metrics import roc_auc_score\n",
        "from hyperopt import hp,tpe, fmin, STATUS_OK , space_eval\n",
        "import xgboost as xgb"
      ],
      "execution_count": null,
      "outputs": []
    },
    {
      "cell_type": "code",
      "metadata": {
        "id": "oE9Op9x1wGwu",
        "colab_type": "code",
        "colab": {
          "base_uri": "https://localhost:8080/",
          "height": 224
        },
        "outputId": "443e54c1-e035-4ee2-9452-5e2bc620330f"
      },
      "source": [
        "#Leitura de Base\n",
        "df = pd.read_csv(\"/content/sample_data/UCI_Credit_Card.csv\")\n",
        "df.head()"
      ],
      "execution_count": null,
      "outputs": [
        {
          "output_type": "execute_result",
          "data": {
            "text/html": [
              "<div>\n",
              "<style scoped>\n",
              "    .dataframe tbody tr th:only-of-type {\n",
              "        vertical-align: middle;\n",
              "    }\n",
              "\n",
              "    .dataframe tbody tr th {\n",
              "        vertical-align: top;\n",
              "    }\n",
              "\n",
              "    .dataframe thead th {\n",
              "        text-align: right;\n",
              "    }\n",
              "</style>\n",
              "<table border=\"1\" class=\"dataframe\">\n",
              "  <thead>\n",
              "    <tr style=\"text-align: right;\">\n",
              "      <th></th>\n",
              "      <th>ID</th>\n",
              "      <th>LIMIT_BAL</th>\n",
              "      <th>SEX</th>\n",
              "      <th>EDUCATION</th>\n",
              "      <th>MARRIAGE</th>\n",
              "      <th>AGE</th>\n",
              "      <th>PAY_0</th>\n",
              "      <th>PAY_2</th>\n",
              "      <th>PAY_3</th>\n",
              "      <th>PAY_4</th>\n",
              "      <th>PAY_5</th>\n",
              "      <th>PAY_6</th>\n",
              "      <th>BILL_AMT1</th>\n",
              "      <th>BILL_AMT2</th>\n",
              "      <th>BILL_AMT3</th>\n",
              "      <th>BILL_AMT4</th>\n",
              "      <th>BILL_AMT5</th>\n",
              "      <th>BILL_AMT6</th>\n",
              "      <th>PAY_AMT1</th>\n",
              "      <th>PAY_AMT2</th>\n",
              "      <th>PAY_AMT3</th>\n",
              "      <th>PAY_AMT4</th>\n",
              "      <th>PAY_AMT5</th>\n",
              "      <th>PAY_AMT6</th>\n",
              "      <th>default.payment.next.month</th>\n",
              "    </tr>\n",
              "  </thead>\n",
              "  <tbody>\n",
              "    <tr>\n",
              "      <th>0</th>\n",
              "      <td>1</td>\n",
              "      <td>20000.0</td>\n",
              "      <td>2</td>\n",
              "      <td>2</td>\n",
              "      <td>1</td>\n",
              "      <td>24</td>\n",
              "      <td>2</td>\n",
              "      <td>2</td>\n",
              "      <td>-1</td>\n",
              "      <td>-1</td>\n",
              "      <td>-2</td>\n",
              "      <td>-2</td>\n",
              "      <td>3913.0</td>\n",
              "      <td>3102.0</td>\n",
              "      <td>689.0</td>\n",
              "      <td>0.0</td>\n",
              "      <td>0.0</td>\n",
              "      <td>0.0</td>\n",
              "      <td>0.0</td>\n",
              "      <td>689.0</td>\n",
              "      <td>0.0</td>\n",
              "      <td>0.0</td>\n",
              "      <td>0.0</td>\n",
              "      <td>0.0</td>\n",
              "      <td>1</td>\n",
              "    </tr>\n",
              "    <tr>\n",
              "      <th>1</th>\n",
              "      <td>2</td>\n",
              "      <td>120000.0</td>\n",
              "      <td>2</td>\n",
              "      <td>2</td>\n",
              "      <td>2</td>\n",
              "      <td>26</td>\n",
              "      <td>-1</td>\n",
              "      <td>2</td>\n",
              "      <td>0</td>\n",
              "      <td>0</td>\n",
              "      <td>0</td>\n",
              "      <td>2</td>\n",
              "      <td>2682.0</td>\n",
              "      <td>1725.0</td>\n",
              "      <td>2682.0</td>\n",
              "      <td>3272.0</td>\n",
              "      <td>3455.0</td>\n",
              "      <td>3261.0</td>\n",
              "      <td>0.0</td>\n",
              "      <td>1000.0</td>\n",
              "      <td>1000.0</td>\n",
              "      <td>1000.0</td>\n",
              "      <td>0.0</td>\n",
              "      <td>2000.0</td>\n",
              "      <td>1</td>\n",
              "    </tr>\n",
              "    <tr>\n",
              "      <th>2</th>\n",
              "      <td>3</td>\n",
              "      <td>90000.0</td>\n",
              "      <td>2</td>\n",
              "      <td>2</td>\n",
              "      <td>2</td>\n",
              "      <td>34</td>\n",
              "      <td>0</td>\n",
              "      <td>0</td>\n",
              "      <td>0</td>\n",
              "      <td>0</td>\n",
              "      <td>0</td>\n",
              "      <td>0</td>\n",
              "      <td>29239.0</td>\n",
              "      <td>14027.0</td>\n",
              "      <td>13559.0</td>\n",
              "      <td>14331.0</td>\n",
              "      <td>14948.0</td>\n",
              "      <td>15549.0</td>\n",
              "      <td>1518.0</td>\n",
              "      <td>1500.0</td>\n",
              "      <td>1000.0</td>\n",
              "      <td>1000.0</td>\n",
              "      <td>1000.0</td>\n",
              "      <td>5000.0</td>\n",
              "      <td>0</td>\n",
              "    </tr>\n",
              "    <tr>\n",
              "      <th>3</th>\n",
              "      <td>4</td>\n",
              "      <td>50000.0</td>\n",
              "      <td>2</td>\n",
              "      <td>2</td>\n",
              "      <td>1</td>\n",
              "      <td>37</td>\n",
              "      <td>0</td>\n",
              "      <td>0</td>\n",
              "      <td>0</td>\n",
              "      <td>0</td>\n",
              "      <td>0</td>\n",
              "      <td>0</td>\n",
              "      <td>46990.0</td>\n",
              "      <td>48233.0</td>\n",
              "      <td>49291.0</td>\n",
              "      <td>28314.0</td>\n",
              "      <td>28959.0</td>\n",
              "      <td>29547.0</td>\n",
              "      <td>2000.0</td>\n",
              "      <td>2019.0</td>\n",
              "      <td>1200.0</td>\n",
              "      <td>1100.0</td>\n",
              "      <td>1069.0</td>\n",
              "      <td>1000.0</td>\n",
              "      <td>0</td>\n",
              "    </tr>\n",
              "    <tr>\n",
              "      <th>4</th>\n",
              "      <td>5</td>\n",
              "      <td>50000.0</td>\n",
              "      <td>1</td>\n",
              "      <td>2</td>\n",
              "      <td>1</td>\n",
              "      <td>57</td>\n",
              "      <td>-1</td>\n",
              "      <td>0</td>\n",
              "      <td>-1</td>\n",
              "      <td>0</td>\n",
              "      <td>0</td>\n",
              "      <td>0</td>\n",
              "      <td>8617.0</td>\n",
              "      <td>5670.0</td>\n",
              "      <td>35835.0</td>\n",
              "      <td>20940.0</td>\n",
              "      <td>19146.0</td>\n",
              "      <td>19131.0</td>\n",
              "      <td>2000.0</td>\n",
              "      <td>36681.0</td>\n",
              "      <td>10000.0</td>\n",
              "      <td>9000.0</td>\n",
              "      <td>689.0</td>\n",
              "      <td>679.0</td>\n",
              "      <td>0</td>\n",
              "    </tr>\n",
              "  </tbody>\n",
              "</table>\n",
              "</div>"
            ],
            "text/plain": [
              "   ID  LIMIT_BAL  SEX  ...  PAY_AMT5  PAY_AMT6  default.payment.next.month\n",
              "0   1    20000.0    2  ...       0.0       0.0                           1\n",
              "1   2   120000.0    2  ...       0.0    2000.0                           1\n",
              "2   3    90000.0    2  ...    1000.0    5000.0                           0\n",
              "3   4    50000.0    2  ...    1069.0    1000.0                           0\n",
              "4   5    50000.0    1  ...     689.0     679.0                           0\n",
              "\n",
              "[5 rows x 25 columns]"
            ]
          },
          "metadata": {
            "tags": []
          },
          "execution_count": 2
        }
      ]
    },
    {
      "cell_type": "code",
      "metadata": {
        "id": "ze_dwXcKwI5y",
        "colab_type": "code",
        "colab": {}
      },
      "source": [
        "#Obs: Não foram feitos os tratamentos de base porque o objetivo é somente mostrar a otimização de hiperparâmetros\n",
        "#Substitui os missings por -99\n",
        "df.fillna(-99,inplace=True)"
      ],
      "execution_count": null,
      "outputs": []
    },
    {
      "cell_type": "code",
      "metadata": {
        "id": "wmwRKlgMwZaj",
        "colab_type": "code",
        "colab": {}
      },
      "source": [
        "#Separa as variáveis em X e y\n",
        "X = df.iloc[:, 1:-1]\n",
        "y = df.iloc[:, -1]"
      ],
      "execution_count": null,
      "outputs": []
    },
    {
      "cell_type": "code",
      "metadata": {
        "id": "5M4HMQQCwso7",
        "colab_type": "code",
        "colab": {}
      },
      "source": [
        "#Não esqueça da semente\n",
        "semente_thiago = 2020"
      ],
      "execution_count": null,
      "outputs": []
    },
    {
      "cell_type": "code",
      "metadata": {
        "id": "zvsZi2GPwcNk",
        "colab_type": "code",
        "colab": {}
      },
      "source": [
        "#Separa em bases de Treino Teste e Validação\n",
        "#Treino: 60%\n",
        "#Validação: 20%\n",
        "#Teste: 20%\n",
        "X_train, X_test, y_train, y_test = train_test_split(X, y, test_size=0.2, random_state=semente_thiago)\n",
        "X_train, X_val, y_train, y_val = train_test_split(X_train, y_train, test_size=0.25, random_state=semente_thiago) # 0.25 x 0.8 = 0.2"
      ],
      "execution_count": null,
      "outputs": []
    },
    {
      "cell_type": "code",
      "metadata": {
        "id": "7loB7UEKw6qK",
        "colab_type": "code",
        "colab": {
          "base_uri": "https://localhost:8080/",
          "height": 125
        },
        "outputId": "7c9b2f73-2d17-4c43-b812-5333ffef78b7"
      },
      "source": [
        "#Checa o tamanho das bases\n",
        "print('Train X : '+str(X_train.shape))\n",
        "print('Valid X : '+str(X_val.shape))\n",
        "print('Test X : '+str(X_test.shape))\n",
        "print('Train y : '+str(y_train.shape))\n",
        "print('Valid y : '+str(y_val.shape))\n",
        "print('Test y : '+str(y_test.shape))"
      ],
      "execution_count": null,
      "outputs": [
        {
          "output_type": "stream",
          "text": [
            "Train X : (18000, 23)\n",
            "Valid X : (6000, 23)\n",
            "Test X : (6000, 23)\n",
            "Train y : (18000,)\n",
            "Valid y : (6000,)\n",
            "Test y : (6000,)\n"
          ],
          "name": "stdout"
        }
      ]
    },
    {
      "cell_type": "markdown",
      "metadata": {
        "id": "TQMTJJx7x8ta",
        "colab_type": "text"
      },
      "source": [
        "## XGB"
      ]
    },
    {
      "cell_type": "code",
      "metadata": {
        "id": "dKUHv4vVyDl9",
        "colab_type": "code",
        "colab": {}
      },
      "source": [
        "#Escolha do Modelo - Árvore de Decisão\n",
        "#clf = xgb.XGBClassifier(**params)"
      ],
      "execution_count": null,
      "outputs": []
    },
    {
      "cell_type": "markdown",
      "metadata": {
        "id": "gG2Ryhl2yiMy",
        "colab_type": "text"
      },
      "source": [
        "## Escolha dos Hiperparâmetros:"
      ]
    },
    {
      "cell_type": "markdown",
      "metadata": {
        "id": "dwy9iwKpywVJ",
        "colab_type": "text"
      },
      "source": [
        "### Conhecimento de Negócio:"
      ]
    },
    {
      "cell_type": "code",
      "metadata": {
        "id": "mzvW7T8iycR2",
        "colab_type": "code",
        "colab": {}
      },
      "source": [
        "#Estima o Modelo:\n",
        "clf_1 = xgb.XGBClassifier(\n",
        "                n_estimators=250,\n",
        "                learning_rate=0.05,\n",
        "                n_jobs=4)\n",
        "clf_1 = clf_1.fit(X_train, y_train)"
      ],
      "execution_count": null,
      "outputs": []
    },
    {
      "cell_type": "code",
      "metadata": {
        "id": "tgLV7log0Fvv",
        "colab_type": "code",
        "colab": {}
      },
      "source": [
        "def GINI(classificador,y,X,safra):\n",
        "  fpr, tpr, thresholds = metrics.roc_curve(y, classificador.predict_proba(X)[:,1])\n",
        "  ROC_1 = roc_auc_score(y, classificador.predict_proba(X)[:,1])\n",
        "  print(\"GINI \"+safra+\" : \"+str(2*ROC_1-1))\n",
        "  return((2*ROC_1-1))"
      ],
      "execution_count": null,
      "outputs": []
    },
    {
      "cell_type": "code",
      "metadata": {
        "id": "sQLC0eHN0MHI",
        "colab_type": "code",
        "colab": {
          "base_uri": "https://localhost:8080/",
          "height": 71
        },
        "outputId": "ffb1c189-7de6-441b-e829-5867ce628e46"
      },
      "source": [
        "clf_1_gini_train=GINI(clf_1,y_train,X_train,'Treino')\n",
        "GINI(clf_1,y_val,X_val,'Validação')\n",
        "clf_1_gini_test=GINI(clf_1,y_test,X_test,'Teste')"
      ],
      "execution_count": null,
      "outputs": [
        {
          "output_type": "stream",
          "text": [
            "GINI Treino : 0.608249888455352\n",
            "GINI Validação : 0.541140859626587\n",
            "GINI Teste : 0.5829130955344548\n"
          ],
          "name": "stdout"
        }
      ]
    },
    {
      "cell_type": "markdown",
      "metadata": {
        "id": "1RpIzd-23J6E",
        "colab_type": "text"
      },
      "source": [
        "### As demais técnicas vão utilizar K-Fold , portanto não é necessário mais separar a base de treino em (Treino & Validação)"
      ]
    },
    {
      "cell_type": "code",
      "metadata": {
        "id": "L8BGwerJ3YIZ",
        "colab_type": "code",
        "colab": {}
      },
      "source": [
        "X_train, X_test, y_train, y_test = train_test_split(X, y, test_size=0.2, random_state=semente_thiago)"
      ],
      "execution_count": null,
      "outputs": []
    },
    {
      "cell_type": "code",
      "metadata": {
        "id": "zS7JGgiv4NzI",
        "colab_type": "code",
        "colab": {
          "base_uri": "https://localhost:8080/",
          "height": 89
        },
        "outputId": "09fa0852-4d95-4161-cb02-12c42fc5416a"
      },
      "source": [
        "#Checa o tamanho das bases\n",
        "print('Train X : '+str(X_train.shape))\n",
        "print('Test X : '+str(X_test.shape))\n",
        "print('Train y : '+str(y_train.shape))\n",
        "print('Test y : '+str(y_test.shape))"
      ],
      "execution_count": null,
      "outputs": [
        {
          "output_type": "stream",
          "text": [
            "Train X : (24000, 23)\n",
            "Test X : (6000, 23)\n",
            "Train y : (24000,)\n",
            "Test y : (6000,)\n"
          ],
          "name": "stdout"
        }
      ]
    },
    {
      "cell_type": "markdown",
      "metadata": {
        "id": "oXII8zZp1DCs",
        "colab_type": "text"
      },
      "source": [
        "### Grid Search:"
      ]
    },
    {
      "cell_type": "code",
      "metadata": {
        "id": "AVRqxjDZ1Nab",
        "colab_type": "code",
        "colab": {}
      },
      "source": [
        "clf_2 = xgb.XGBClassifier(random_state=semente_thiago)"
      ],
      "execution_count": null,
      "outputs": []
    },
    {
      "cell_type": "code",
      "metadata": {
        "id": "31t5lhA7zXpo",
        "colab_type": "code",
        "colab": {
          "base_uri": "https://localhost:8080/",
          "height": 287
        },
        "outputId": "4594c9d7-d367-4812-ad80-f2099af2622d"
      },
      "source": [
        "#Define os parametros para percorrer:\n",
        "tree_param = {\n",
        "        'min_child_weight': [1, 5, 10],\n",
        "        'gamma': [0.5, 1, 1.5, 2, 5],\n",
        "        'subsample': [0.6, 0.8, 1.0],\n",
        "        'colsample_bytree': [0.6, 0.8, 1.0],\n",
        "        'max_depth': [3, 4, 5]\n",
        "        }\n",
        "clf_2_search = GridSearchCV(clf_2, tree_param,scoring='roc_auc', cv=5)\n",
        "clf_2_search.fit(X_train, y_train)"
      ],
      "execution_count": null,
      "outputs": [
        {
          "output_type": "execute_result",
          "data": {
            "text/plain": [
              "GridSearchCV(cv=5, error_score=nan,\n",
              "             estimator=XGBClassifier(base_score=0.5, booster='gbtree',\n",
              "                                     colsample_bylevel=1, colsample_bynode=1,\n",
              "                                     colsample_bytree=1, gamma=0,\n",
              "                                     learning_rate=0.1, max_delta_step=0,\n",
              "                                     max_depth=3, min_child_weight=1,\n",
              "                                     missing=None, n_estimators=100, n_jobs=1,\n",
              "                                     nthread=None, objective='binary:logistic',\n",
              "                                     random_state=2020, reg_alpha=0,\n",
              "                                     reg_lambda=1, scale_pos_weight=1,\n",
              "                                     seed=None, silent=None, subsample=1,\n",
              "                                     verbosity=1),\n",
              "             iid='deprecated', n_jobs=None, param_grid={'max_depth': [3, 4, 5]},\n",
              "             pre_dispatch='2*n_jobs', refit=True, return_train_score=False,\n",
              "             scoring='roc_auc', verbose=0)"
            ]
          },
          "metadata": {
            "tags": []
          },
          "execution_count": 23
        }
      ]
    },
    {
      "cell_type": "code",
      "metadata": {
        "id": "yMWA2ceN1OqT",
        "colab_type": "code",
        "colab": {
          "base_uri": "https://localhost:8080/",
          "height": 53
        },
        "outputId": "c9ba16bd-b2ef-4da7-889a-77dab338e99d"
      },
      "source": [
        "clf_2_gini_train=GINI(clf_2_search,y_train,X_train,'Treino')\n",
        "clf_2_gini_test=GINI(clf_2_search,y_test,X_test,'Teste')"
      ],
      "execution_count": null,
      "outputs": [
        {
          "output_type": "stream",
          "text": [
            "GINI Treino : 0.6372592967185284\n",
            "GINI Teste : 0.5806814688368087\n"
          ],
          "name": "stdout"
        }
      ]
    },
    {
      "cell_type": "markdown",
      "metadata": {
        "id": "ODMniBZB5FqD",
        "colab_type": "text"
      },
      "source": [
        "### Random Search:"
      ]
    },
    {
      "cell_type": "code",
      "metadata": {
        "id": "gkf6_sud5WHg",
        "colab_type": "code",
        "colab": {}
      },
      "source": [
        "clf_3 = xgb.XGBClassifier(random_state=semente_thiago)"
      ],
      "execution_count": null,
      "outputs": []
    },
    {
      "cell_type": "code",
      "metadata": {
        "id": "04_8LyMf5WJ2",
        "colab_type": "code",
        "colab": {
          "base_uri": "https://localhost:8080/",
          "height": 397
        },
        "outputId": "da009bad-23f5-4be0-9af3-96d8b3925ee5"
      },
      "source": [
        "tree_param = {\n",
        "        'min_child_weight': [1, 5, 10],\n",
        "        'gamma': [0.5, 1, 1.5, 2, 5],\n",
        "        'subsample': [0.6, 0.8, 1.0],\n",
        "        'colsample_bytree': [0.6, 0.8, 1.0],\n",
        "        'max_depth': [3, 4, 5]\n",
        "        }\n",
        "clf_3_search = RandomizedSearchCV(clf_3, tree_param,scoring='roc_auc', cv=5)\n",
        "clf_3_search.fit(X_train, y_train)"
      ],
      "execution_count": null,
      "outputs": [
        {
          "output_type": "stream",
          "text": [
            "/usr/local/lib/python3.6/dist-packages/sklearn/model_selection/_search.py:281: UserWarning: The total space of parameters 3 is smaller than n_iter=10. Running 3 iterations. For exhaustive searches, use GridSearchCV.\n",
            "  % (grid_size, self.n_iter, grid_size), UserWarning)\n"
          ],
          "name": "stderr"
        },
        {
          "output_type": "execute_result",
          "data": {
            "text/plain": [
              "RandomizedSearchCV(cv=5, error_score=nan,\n",
              "                   estimator=XGBClassifier(base_score=0.5, booster='gbtree',\n",
              "                                           colsample_bylevel=1,\n",
              "                                           colsample_bynode=1,\n",
              "                                           colsample_bytree=1, gamma=0,\n",
              "                                           learning_rate=0.1, max_delta_step=0,\n",
              "                                           max_depth=3, min_child_weight=1,\n",
              "                                           missing=None, n_estimators=100,\n",
              "                                           n_jobs=1, nthread=None,\n",
              "                                           objective='binary:logistic',\n",
              "                                           random_state=2020, reg_alpha=0,\n",
              "                                           reg_lambda=1, scale_pos_weight=1,\n",
              "                                           seed=None, silent=None, subsample=1,\n",
              "                                           verbosity=1),\n",
              "                   iid='deprecated', n_iter=10, n_jobs=None,\n",
              "                   param_distributions={'min_child_weight': [1, 5, 10]},\n",
              "                   pre_dispatch='2*n_jobs', random_state=None, refit=True,\n",
              "                   return_train_score=False, scoring='roc_auc', verbose=0)"
            ]
          },
          "metadata": {
            "tags": []
          },
          "execution_count": 30
        }
      ]
    },
    {
      "cell_type": "code",
      "metadata": {
        "id": "F0eEfsps2pNh",
        "colab_type": "code",
        "colab": {
          "base_uri": "https://localhost:8080/",
          "height": 53
        },
        "outputId": "82d8a990-2250-426f-f99e-fe22086bee39"
      },
      "source": [
        "clf_3_gini_train=GINI(clf_3_search,y_train,X_train,'Treino')\n",
        "clf_3_gini_test=GINI(clf_3_search,y_test,X_test,'Teste')"
      ],
      "execution_count": null,
      "outputs": [
        {
          "output_type": "stream",
          "text": [
            "GINI Treino : 0.6023504182143053\n",
            "GINI Teste : 0.5819976212209221\n"
          ],
          "name": "stdout"
        }
      ]
    },
    {
      "cell_type": "markdown",
      "metadata": {
        "id": "lgY1OLZy6i3s",
        "colab_type": "text"
      },
      "source": [
        "### Otimização Bayesiana:"
      ]
    },
    {
      "cell_type": "code",
      "metadata": {
        "id": "BuGHQKBxi5eX",
        "colab_type": "code",
        "colab": {
          "base_uri": "https://localhost:8080/",
          "height": 215
        },
        "outputId": "b16b53a8-d1de-49dc-dc15-6580232c1c5f"
      },
      "source": [
        "#Define a função que vamos ou maximizar ou minimizar\n",
        "#No caso queremos maximizar , portanto será necessário tratar a métrica de performance\n",
        "def objective(params):\n",
        "    params = {\n",
        "        'max_depth': int(params['max_depth']),\n",
        "        'gamma': \"{:.3f}\".format(params['gamma']),\n",
        "        'colsample_bytree': '{:.3f}'.format(params['colsample_bytree']),\n",
        "    }\n",
        "    \n",
        "    clf = xgb.XGBClassifier(\n",
        "        n_estimators=250,\n",
        "        learning_rate=0.05,\n",
        "        n_jobs=4,\n",
        "        **params\n",
        "    )\n",
        "    \n",
        "    score = cross_val_score(clf, X_train, y_train, scoring='roc_auc', cv=StratifiedKFold()).mean()\n",
        "    print(\"Gini {:.3f} params {}\".format(score, params))\n",
        "    return score\n",
        "\n",
        "space = {\n",
        "    'max_depth': hp.quniform('max_depth', 2, 8, 1),\n",
        "    'colsample_bytree': hp.uniform('colsample_bytree', 0.3, 1.0),\n",
        "    'gamma': hp.uniform('gamma', 0.0, 0.5),\n",
        "}\n",
        "\n",
        "best = fmin(fn=objective,\n",
        "            space=space,\n",
        "            algo=tpe.suggest,\n",
        "            max_evals=10)"
      ],
      "execution_count": null,
      "outputs": [
        {
          "output_type": "stream",
          "text": [
            "Gini 0.775 params {'max_depth': 8, 'gamma': '0.208', 'colsample_bytree': '0.772'}\n",
            "Gini 0.776 params {'max_depth': 6, 'gamma': '0.344', 'colsample_bytree': '0.989'}\n",
            "Gini 0.777 params {'max_depth': 8, 'gamma': '0.050', 'colsample_bytree': '0.436'}\n",
            "Gini 0.778 params {'max_depth': 7, 'gamma': '0.052', 'colsample_bytree': '0.583'}\n",
            "Gini 0.778 params {'max_depth': 6, 'gamma': '0.326', 'colsample_bytree': '0.759'}\n",
            "Gini 0.779 params {'max_depth': 7, 'gamma': '0.237', 'colsample_bytree': '0.302'}\n",
            "Gini 0.778 params {'max_depth': 8, 'gamma': '0.193', 'colsample_bytree': '0.447'}\n",
            "Gini 0.780 params {'max_depth': 4, 'gamma': '0.256', 'colsample_bytree': '0.838'}\n",
            "Gini 0.777 params {'max_depth': 6, 'gamma': '0.208', 'colsample_bytree': '0.885'}\n",
            "Gini 0.780 params {'max_depth': 4, 'gamma': '0.494', 'colsample_bytree': '0.969'}\n",
            "100%|██████████| 10/10 [06:01<00:00, 36.11s/it, best loss: 0.7753853183441054]\n"
          ],
          "name": "stdout"
        }
      ]
    },
    {
      "cell_type": "code",
      "metadata": {
        "id": "87czSKgcIALx",
        "colab_type": "code",
        "colab": {
          "base_uri": "https://localhost:8080/",
          "height": 71
        },
        "outputId": "163fd7a9-68c9-4e48-9cc3-dd18257479c9"
      },
      "source": [
        "space_eval(best, space)"
      ],
      "execution_count": null,
      "outputs": [
        {
          "output_type": "execute_result",
          "data": {
            "text/plain": [
              "{'colsample_bytree': 0.7716630112527664,\n",
              " 'gamma': 0.20818387837017732,\n",
              " 'max_depth': 8.0}"
            ]
          },
          "metadata": {
            "tags": []
          },
          "execution_count": 37
        }
      ]
    },
    {
      "cell_type": "markdown",
      "metadata": {
        "id": "4ewkV9zWEfKS",
        "colab_type": "text"
      },
      "source": [
        "#### Fita o Modelo e Mede a Performance"
      ]
    },
    {
      "cell_type": "code",
      "metadata": {
        "id": "kKduSHJqEmQr",
        "colab_type": "code",
        "colab": {
          "base_uri": "https://localhost:8080/",
          "height": 161
        },
        "outputId": "735fc2eb-258e-4c5f-f40f-23c7c085e259"
      },
      "source": [
        "clf_4 = xgb.XGBClassifier(colsample_bytree=0.7716630112527664,gamm= 0.20818387837017732,max_depth=8,random_state=semente_thiago)\n",
        "clf_4.fit(X_train, y_train)"
      ],
      "execution_count": null,
      "outputs": [
        {
          "output_type": "execute_result",
          "data": {
            "text/plain": [
              "XGBClassifier(base_score=0.5, booster='gbtree', colsample_bylevel=1,\n",
              "              colsample_bynode=1, colsample_bytree=0.7716630112527664,\n",
              "              gamm=0.20818387837017732, gamma=0, learning_rate=0.1,\n",
              "              max_delta_step=0, max_depth=8, min_child_weight=1, missing=None,\n",
              "              n_estimators=100, n_jobs=1, nthread=None,\n",
              "              objective='binary:logistic', random_state=2020, reg_alpha=0,\n",
              "              reg_lambda=1, scale_pos_weight=1, seed=None, silent=None,\n",
              "              subsample=1, verbosity=1)"
            ]
          },
          "metadata": {
            "tags": []
          },
          "execution_count": 40
        }
      ]
    },
    {
      "cell_type": "code",
      "metadata": {
        "id": "Y3BMCySM_Vl0",
        "colab_type": "code",
        "colab": {
          "base_uri": "https://localhost:8080/",
          "height": 53
        },
        "outputId": "34122052-a0d8-4ffa-84c1-47dc33c5fe0c"
      },
      "source": [
        "clf_4_gini_train=GINI(clf_4,y_train,X_train,'Treino')\n",
        "clf_4_gini_test=GINI(clf_4,y_test,X_test,'Teste')"
      ],
      "execution_count": null,
      "outputs": [
        {
          "output_type": "stream",
          "text": [
            "GINI Treino : 0.8443987032123674\n",
            "GINI Teste : 0.5682046540298966\n"
          ],
          "name": "stdout"
        }
      ]
    },
    {
      "cell_type": "markdown",
      "metadata": {
        "id": "JuGDKFJ8JWFH",
        "colab_type": "text"
      },
      "source": [
        "# Compara as técnicas"
      ]
    },
    {
      "cell_type": "code",
      "metadata": {
        "id": "CsM0hqSqJVU4",
        "colab_type": "code",
        "colab": {
          "base_uri": "https://localhost:8080/",
          "height": 359
        },
        "outputId": "79dea5cd-5627-47db-f98a-e5c47c2fbcad"
      },
      "source": [
        "print(\"#-----#-----#-----#-----#\")\n",
        "print(\"Comparação dos Modelos\")\n",
        "print(\"#-----#-----#-----#-----#\")\n",
        "print(\"Conhecimento de Negócio\")\n",
        "print(\"Treino : \"+str(clf_1_gini_train))\n",
        "print(\"Teste : \"+str(clf_1_gini_test))\n",
        "print(\"      #-----#-----#\")\n",
        "print(\"Grid Search\")\n",
        "print(\"Treino : \"+str(clf_2_gini_train))\n",
        "print(\"Teste : \"+str(clf_2_gini_test))\n",
        "print(\"      #-----#-----#\")\n",
        "print(\"Random Search\")\n",
        "print(\"Treino : \"+str(clf_3_gini_train))\n",
        "print(\"Teste : \"+str(clf_3_gini_test))\n",
        "print(\"      #-----#-----#\")\n",
        "print(\"Otimização Bayesiana\")\n",
        "print(\"Treino : \"+str(clf_4_gini_train))\n",
        "print(\"Teste : \"+str(clf_4_gini_test))\n",
        "print(\"#-----#-----#-----#-----#\")"
      ],
      "execution_count": null,
      "outputs": [
        {
          "output_type": "stream",
          "text": [
            "#-----#-----#-----#-----#\n",
            "Comparação dos Modelos\n",
            "#-----#-----#-----#-----#\n",
            "Conhecimento de Negócio\n",
            "Treino : 0.608249888455352\n",
            "Teste : 0.5829130955344548\n",
            "      #-----#-----#\n",
            "Grid Search\n",
            "Treino : 0.6372592967185284\n",
            "Teste : 0.5806814688368087\n",
            "      #-----#-----#\n",
            "Random Search\n",
            "Treino : 0.6023504182143053\n",
            "Teste : 0.5819976212209221\n",
            "      #-----#-----#\n",
            "Otimização Bayesiana\n",
            "Treino : 0.8443987032123674\n",
            "Teste : 0.5682046540298966\n",
            "#-----#-----#-----#-----#\n"
          ],
          "name": "stdout"
        }
      ]
    }
  ]
}