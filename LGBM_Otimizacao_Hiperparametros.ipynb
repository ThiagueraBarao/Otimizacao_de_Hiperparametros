{
  "nbformat": 4,
  "nbformat_minor": 0,
  "metadata": {
    "colab": {
      "name": "LGBM_Otimizacao_Hiperparametros.ipynb",
      "provenance": [],
      "collapsed_sections": [],
      "authorship_tag": "ABX9TyNmIS54y3lwG8y9eE4PWBUB",
      "include_colab_link": true
    },
    "kernelspec": {
      "name": "python3",
      "display_name": "Python 3"
    }
  },
  "cells": [
    {
      "cell_type": "markdown",
      "metadata": {
        "id": "view-in-github",
        "colab_type": "text"
      },
      "source": [
        "<a href=\"https://colab.research.google.com/github/ThiagueraBarao/Otimizacao_de_Hiperparametros/blob/master/LGBM_Otimizacao_Hiperparametros.ipynb\" target=\"_parent\"><img src=\"https://colab.research.google.com/assets/colab-badge.svg\" alt=\"Open In Colab\"/></a>"
      ]
    },
    {
      "cell_type": "markdown",
      "metadata": {
        "id": "2eb0vV5JvLQb",
        "colab_type": "text"
      },
      "source": [
        "# **Otimização de Hiperparâmetros**\n",
        "\n",
        "### Autor: Thiago do Carmo Nunes\n",
        "### Acesse em: [thiagocarmonunes.com.br](https://www.thiagocarmonunes.com.br/)\n",
        "#### Publicado em :  19-Jul-2020"
      ]
    },
    {
      "cell_type": "markdown",
      "metadata": {
        "id": "9DsPSsCwvRT9",
        "colab_type": "text"
      },
      "source": [
        "# **Aplicando o conhecimento em uma LGBM**"
      ]
    },
    {
      "cell_type": "code",
      "metadata": {
        "id": "ATGJcjBKvLmf",
        "colab_type": "code",
        "colab": {}
      },
      "source": [
        "#Pacotes Utilizados\n",
        "import pandas as pd\n",
        "import numpy as np\n",
        "from sklearn.model_selection import train_test_split\n",
        "from sklearn import tree, metrics\n",
        "from sklearn.model_selection import GridSearchCV,RandomizedSearchCV,cross_val_score,StratifiedKFold\n",
        "from sklearn.metrics import roc_auc_score\n",
        "from hyperopt import hp,tpe, fmin, STATUS_OK , space_eval\n",
        "import lightgbm as lgbm"
      ],
      "execution_count": null,
      "outputs": []
    },
    {
      "cell_type": "code",
      "metadata": {
        "id": "oE9Op9x1wGwu",
        "colab_type": "code",
        "colab": {
          "base_uri": "https://localhost:8080/",
          "height": 224
        },
        "outputId": "9be43811-a808-490b-aa29-171339e72780"
      },
      "source": [
        "#Leitura de Base\n",
        "df = pd.read_csv(\"/content/sample_data/UCI_Credit_Card.csv\")\n",
        "df.head()"
      ],
      "execution_count": null,
      "outputs": [
        {
          "output_type": "execute_result",
          "data": {
            "text/html": [
              "<div>\n",
              "<style scoped>\n",
              "    .dataframe tbody tr th:only-of-type {\n",
              "        vertical-align: middle;\n",
              "    }\n",
              "\n",
              "    .dataframe tbody tr th {\n",
              "        vertical-align: top;\n",
              "    }\n",
              "\n",
              "    .dataframe thead th {\n",
              "        text-align: right;\n",
              "    }\n",
              "</style>\n",
              "<table border=\"1\" class=\"dataframe\">\n",
              "  <thead>\n",
              "    <tr style=\"text-align: right;\">\n",
              "      <th></th>\n",
              "      <th>ID</th>\n",
              "      <th>LIMIT_BAL</th>\n",
              "      <th>SEX</th>\n",
              "      <th>EDUCATION</th>\n",
              "      <th>MARRIAGE</th>\n",
              "      <th>AGE</th>\n",
              "      <th>PAY_0</th>\n",
              "      <th>PAY_2</th>\n",
              "      <th>PAY_3</th>\n",
              "      <th>PAY_4</th>\n",
              "      <th>PAY_5</th>\n",
              "      <th>PAY_6</th>\n",
              "      <th>BILL_AMT1</th>\n",
              "      <th>BILL_AMT2</th>\n",
              "      <th>BILL_AMT3</th>\n",
              "      <th>BILL_AMT4</th>\n",
              "      <th>BILL_AMT5</th>\n",
              "      <th>BILL_AMT6</th>\n",
              "      <th>PAY_AMT1</th>\n",
              "      <th>PAY_AMT2</th>\n",
              "      <th>PAY_AMT3</th>\n",
              "      <th>PAY_AMT4</th>\n",
              "      <th>PAY_AMT5</th>\n",
              "      <th>PAY_AMT6</th>\n",
              "      <th>default.payment.next.month</th>\n",
              "    </tr>\n",
              "  </thead>\n",
              "  <tbody>\n",
              "    <tr>\n",
              "      <th>0</th>\n",
              "      <td>1</td>\n",
              "      <td>20000.0</td>\n",
              "      <td>2</td>\n",
              "      <td>2</td>\n",
              "      <td>1</td>\n",
              "      <td>24</td>\n",
              "      <td>2</td>\n",
              "      <td>2</td>\n",
              "      <td>-1</td>\n",
              "      <td>-1</td>\n",
              "      <td>-2</td>\n",
              "      <td>-2</td>\n",
              "      <td>3913.0</td>\n",
              "      <td>3102.0</td>\n",
              "      <td>689.0</td>\n",
              "      <td>0.0</td>\n",
              "      <td>0.0</td>\n",
              "      <td>0.0</td>\n",
              "      <td>0.0</td>\n",
              "      <td>689.0</td>\n",
              "      <td>0.0</td>\n",
              "      <td>0.0</td>\n",
              "      <td>0.0</td>\n",
              "      <td>0.0</td>\n",
              "      <td>1</td>\n",
              "    </tr>\n",
              "    <tr>\n",
              "      <th>1</th>\n",
              "      <td>2</td>\n",
              "      <td>120000.0</td>\n",
              "      <td>2</td>\n",
              "      <td>2</td>\n",
              "      <td>2</td>\n",
              "      <td>26</td>\n",
              "      <td>-1</td>\n",
              "      <td>2</td>\n",
              "      <td>0</td>\n",
              "      <td>0</td>\n",
              "      <td>0</td>\n",
              "      <td>2</td>\n",
              "      <td>2682.0</td>\n",
              "      <td>1725.0</td>\n",
              "      <td>2682.0</td>\n",
              "      <td>3272.0</td>\n",
              "      <td>3455.0</td>\n",
              "      <td>3261.0</td>\n",
              "      <td>0.0</td>\n",
              "      <td>1000.0</td>\n",
              "      <td>1000.0</td>\n",
              "      <td>1000.0</td>\n",
              "      <td>0.0</td>\n",
              "      <td>2000.0</td>\n",
              "      <td>1</td>\n",
              "    </tr>\n",
              "    <tr>\n",
              "      <th>2</th>\n",
              "      <td>3</td>\n",
              "      <td>90000.0</td>\n",
              "      <td>2</td>\n",
              "      <td>2</td>\n",
              "      <td>2</td>\n",
              "      <td>34</td>\n",
              "      <td>0</td>\n",
              "      <td>0</td>\n",
              "      <td>0</td>\n",
              "      <td>0</td>\n",
              "      <td>0</td>\n",
              "      <td>0</td>\n",
              "      <td>29239.0</td>\n",
              "      <td>14027.0</td>\n",
              "      <td>13559.0</td>\n",
              "      <td>14331.0</td>\n",
              "      <td>14948.0</td>\n",
              "      <td>15549.0</td>\n",
              "      <td>1518.0</td>\n",
              "      <td>1500.0</td>\n",
              "      <td>1000.0</td>\n",
              "      <td>1000.0</td>\n",
              "      <td>1000.0</td>\n",
              "      <td>5000.0</td>\n",
              "      <td>0</td>\n",
              "    </tr>\n",
              "    <tr>\n",
              "      <th>3</th>\n",
              "      <td>4</td>\n",
              "      <td>50000.0</td>\n",
              "      <td>2</td>\n",
              "      <td>2</td>\n",
              "      <td>1</td>\n",
              "      <td>37</td>\n",
              "      <td>0</td>\n",
              "      <td>0</td>\n",
              "      <td>0</td>\n",
              "      <td>0</td>\n",
              "      <td>0</td>\n",
              "      <td>0</td>\n",
              "      <td>46990.0</td>\n",
              "      <td>48233.0</td>\n",
              "      <td>49291.0</td>\n",
              "      <td>28314.0</td>\n",
              "      <td>28959.0</td>\n",
              "      <td>29547.0</td>\n",
              "      <td>2000.0</td>\n",
              "      <td>2019.0</td>\n",
              "      <td>1200.0</td>\n",
              "      <td>1100.0</td>\n",
              "      <td>1069.0</td>\n",
              "      <td>1000.0</td>\n",
              "      <td>0</td>\n",
              "    </tr>\n",
              "    <tr>\n",
              "      <th>4</th>\n",
              "      <td>5</td>\n",
              "      <td>50000.0</td>\n",
              "      <td>1</td>\n",
              "      <td>2</td>\n",
              "      <td>1</td>\n",
              "      <td>57</td>\n",
              "      <td>-1</td>\n",
              "      <td>0</td>\n",
              "      <td>-1</td>\n",
              "      <td>0</td>\n",
              "      <td>0</td>\n",
              "      <td>0</td>\n",
              "      <td>8617.0</td>\n",
              "      <td>5670.0</td>\n",
              "      <td>35835.0</td>\n",
              "      <td>20940.0</td>\n",
              "      <td>19146.0</td>\n",
              "      <td>19131.0</td>\n",
              "      <td>2000.0</td>\n",
              "      <td>36681.0</td>\n",
              "      <td>10000.0</td>\n",
              "      <td>9000.0</td>\n",
              "      <td>689.0</td>\n",
              "      <td>679.0</td>\n",
              "      <td>0</td>\n",
              "    </tr>\n",
              "  </tbody>\n",
              "</table>\n",
              "</div>"
            ],
            "text/plain": [
              "   ID  LIMIT_BAL  SEX  ...  PAY_AMT5  PAY_AMT6  default.payment.next.month\n",
              "0   1    20000.0    2  ...       0.0       0.0                           1\n",
              "1   2   120000.0    2  ...       0.0    2000.0                           1\n",
              "2   3    90000.0    2  ...    1000.0    5000.0                           0\n",
              "3   4    50000.0    2  ...    1069.0    1000.0                           0\n",
              "4   5    50000.0    1  ...     689.0     679.0                           0\n",
              "\n",
              "[5 rows x 25 columns]"
            ]
          },
          "metadata": {
            "tags": []
          },
          "execution_count": 3
        }
      ]
    },
    {
      "cell_type": "code",
      "metadata": {
        "id": "ze_dwXcKwI5y",
        "colab_type": "code",
        "colab": {}
      },
      "source": [
        "#Obs: Não foram feitos os tratamentos de base porque o objetivo é somente mostrar a otimização de hiperparâmetros\n",
        "#Substitui os missings por -99\n",
        "df.fillna(-99,inplace=True)"
      ],
      "execution_count": null,
      "outputs": []
    },
    {
      "cell_type": "code",
      "metadata": {
        "id": "wmwRKlgMwZaj",
        "colab_type": "code",
        "colab": {}
      },
      "source": [
        "#Separa as variáveis em X e y\n",
        "X = df.iloc[:, 1:-1]\n",
        "y = df.iloc[:, -1]"
      ],
      "execution_count": null,
      "outputs": []
    },
    {
      "cell_type": "code",
      "metadata": {
        "id": "5M4HMQQCwso7",
        "colab_type": "code",
        "colab": {}
      },
      "source": [
        "#Não esqueça da semente\n",
        "semente_thiago = 2020"
      ],
      "execution_count": null,
      "outputs": []
    },
    {
      "cell_type": "code",
      "metadata": {
        "id": "zvsZi2GPwcNk",
        "colab_type": "code",
        "colab": {}
      },
      "source": [
        "#Separa em bases de Treino Teste e Validação\n",
        "#Treino: 60%\n",
        "#Validação: 20%\n",
        "#Teste: 20%\n",
        "X_train, X_test, y_train, y_test = train_test_split(X, y, test_size=0.2, random_state=semente_thiago)\n",
        "X_train, X_val, y_train, y_val = train_test_split(X_train, y_train, test_size=0.25, random_state=semente_thiago) # 0.25 x 0.8 = 0.2"
      ],
      "execution_count": null,
      "outputs": []
    },
    {
      "cell_type": "code",
      "metadata": {
        "id": "7loB7UEKw6qK",
        "colab_type": "code",
        "colab": {
          "base_uri": "https://localhost:8080/",
          "height": 125
        },
        "outputId": "9f7bacda-e22a-4d7b-87f3-39a73b8e6519"
      },
      "source": [
        "#Checa o tamanho das bases\n",
        "print('Train X : '+str(X_train.shape))\n",
        "print('Valid X : '+str(X_val.shape))\n",
        "print('Test X : '+str(X_test.shape))\n",
        "print('Train y : '+str(y_train.shape))\n",
        "print('Valid y : '+str(y_val.shape))\n",
        "print('Test y : '+str(y_test.shape))"
      ],
      "execution_count": null,
      "outputs": [
        {
          "output_type": "stream",
          "text": [
            "Train X : (18000, 23)\n",
            "Valid X : (6000, 23)\n",
            "Test X : (6000, 23)\n",
            "Train y : (18000,)\n",
            "Valid y : (6000,)\n",
            "Test y : (6000,)\n"
          ],
          "name": "stdout"
        }
      ]
    },
    {
      "cell_type": "markdown",
      "metadata": {
        "id": "TQMTJJx7x8ta",
        "colab_type": "text"
      },
      "source": [
        "## LGBM"
      ]
    },
    {
      "cell_type": "markdown",
      "metadata": {
        "id": "Xve5sM1mx82P",
        "colab_type": "text"
      },
      "source": [
        "### Parâmetros\n",
        "\n",
        "* class_weight=\n",
        "> {None, 'balanced'}\n",
        "* boosting_type\n",
        "> {gbdt, dart, goss}\n",
        "* num_leaves\n",
        "> {2:inf}\n",
        "* learning_rate\n",
        "> {0:1}\n",
        "*subsample_for_bin\n",
        "> {0:inf}\n",
        "*feature_fraction\n",
        "> {0:1}\n",
        "*bagging_fraction\n",
        "> {0:1}\n",
        "*min_data_in_leaf\n",
        "> {0:inf}\n",
        "*lambda_l1\n",
        "> {0:inf}\n",
        "*lambda_l2\n",
        "> {0:inf}\n",
        "*min_child_weight\n",
        "> {-inf:inf}\n"
      ]
    },
    {
      "cell_type": "code",
      "metadata": {
        "id": "dKUHv4vVyDl9",
        "colab_type": "code",
        "colab": {}
      },
      "source": [
        "#Escolha do Modelo - Árvore de Decisão\n",
        "#clf = lgbm.LGBMClassifier(**params)"
      ],
      "execution_count": null,
      "outputs": []
    },
    {
      "cell_type": "markdown",
      "metadata": {
        "id": "gG2Ryhl2yiMy",
        "colab_type": "text"
      },
      "source": [
        "## Escolha dos Hiperparâmetros:"
      ]
    },
    {
      "cell_type": "markdown",
      "metadata": {
        "id": "dwy9iwKpywVJ",
        "colab_type": "text"
      },
      "source": [
        "### Conhecimento de Negócio:"
      ]
    },
    {
      "cell_type": "code",
      "metadata": {
        "id": "mzvW7T8iycR2",
        "colab_type": "code",
        "colab": {}
      },
      "source": [
        "#Estima o Modelo:\n",
        "clf_1 = lgbm.LGBMClassifier(\n",
        "                            boosting_type='dart',\n",
        "                            num_leaves=8,\n",
        "                            min_data_in_leaf=100,\n",
        "                            learning_rate = 0.1)\n",
        "clf_1 = clf_1.fit(X_train, y_train)"
      ],
      "execution_count": null,
      "outputs": []
    },
    {
      "cell_type": "code",
      "metadata": {
        "id": "tgLV7log0Fvv",
        "colab_type": "code",
        "colab": {}
      },
      "source": [
        "def GINI(classificador,y,X,safra):\n",
        "  fpr, tpr, thresholds = metrics.roc_curve(y, classificador.predict_proba(X)[:,1])\n",
        "  ROC_1 = roc_auc_score(y, classificador.predict_proba(X)[:,1])\n",
        "  print(\"GINI \"+safra+\" : \"+str(2*ROC_1-1))\n",
        "  return((2*ROC_1-1))"
      ],
      "execution_count": null,
      "outputs": []
    },
    {
      "cell_type": "code",
      "metadata": {
        "id": "sQLC0eHN0MHI",
        "colab_type": "code",
        "colab": {
          "base_uri": "https://localhost:8080/",
          "height": 71
        },
        "outputId": "a4278965-36ed-4baa-d215-37950fe91100"
      },
      "source": [
        "clf_1_gini_train=GINI(clf_1,y_train,X_train,'Treino')\n",
        "GINI(clf_1,y_val,X_val,'Validação')\n",
        "clf_1_gini_test=GINI(clf_1,y_test,X_test,'Teste')"
      ],
      "execution_count": null,
      "outputs": [
        {
          "output_type": "stream",
          "text": [
            "GINI Treino : 0.5971253021739229\n",
            "GINI Validação : 0.543257395769746\n",
            "GINI Teste : 0.5804962243797194\n"
          ],
          "name": "stdout"
        }
      ]
    },
    {
      "cell_type": "markdown",
      "metadata": {
        "id": "1RpIzd-23J6E",
        "colab_type": "text"
      },
      "source": [
        "### As demais técnicas vão utilizar K-Fold , portanto não é necessário mais separar a base de treino em (Treino & Validação)"
      ]
    },
    {
      "cell_type": "code",
      "metadata": {
        "id": "L8BGwerJ3YIZ",
        "colab_type": "code",
        "colab": {}
      },
      "source": [
        "X_train, X_test, y_train, y_test = train_test_split(X, y, test_size=0.2, random_state=semente_thiago)"
      ],
      "execution_count": null,
      "outputs": []
    },
    {
      "cell_type": "code",
      "metadata": {
        "id": "zS7JGgiv4NzI",
        "colab_type": "code",
        "colab": {
          "base_uri": "https://localhost:8080/",
          "height": 89
        },
        "outputId": "3ea6d648-6fd9-443a-8c36-ea3a33b9feb4"
      },
      "source": [
        "#Checa o tamanho das bases\n",
        "print('Train X : '+str(X_train.shape))\n",
        "print('Test X : '+str(X_test.shape))\n",
        "print('Train y : '+str(y_train.shape))\n",
        "print('Test y : '+str(y_test.shape))"
      ],
      "execution_count": null,
      "outputs": [
        {
          "output_type": "stream",
          "text": [
            "Train X : (24000, 23)\n",
            "Test X : (6000, 23)\n",
            "Train y : (24000,)\n",
            "Test y : (6000,)\n"
          ],
          "name": "stdout"
        }
      ]
    },
    {
      "cell_type": "markdown",
      "metadata": {
        "id": "oXII8zZp1DCs",
        "colab_type": "text"
      },
      "source": [
        "### Grid Search:"
      ]
    },
    {
      "cell_type": "code",
      "metadata": {
        "id": "AVRqxjDZ1Nab",
        "colab_type": "code",
        "colab": {}
      },
      "source": [
        "clf_2 = lgbm.LGBMClassifier(random_state=semente_thiago)"
      ],
      "execution_count": null,
      "outputs": []
    },
    {
      "cell_type": "code",
      "metadata": {
        "id": "31t5lhA7zXpo",
        "colab_type": "code",
        "colab": {
          "base_uri": "https://localhost:8080/",
          "height": 107
        },
        "outputId": "dc89405e-7de4-4609-b68d-b98dbd80aa17"
      },
      "source": [
        "#Define os parametros para percorrer:\n",
        "tree_param =  {\n",
        "    'learning_rate': [0.005, 0.01],\n",
        "    'n_estimators': [8,16,24],\n",
        "    'num_leaves': [6,8,12,16],\n",
        "    }\n",
        "clf_2_search = GridSearchCV(clf_2, tree_param,scoring='roc_auc', cv=5)\n",
        "clf_2_search.fit(X_train, y_train)"
      ],
      "execution_count": null,
      "outputs": [
        {
          "output_type": "execute_result",
          "data": {
            "text/plain": [
              "GridSearchCV(cv=5, estimator=LGBMClassifier(random_state=2020),\n",
              "             param_grid={'learning_rate': [0.005, 0.01],\n",
              "                         'n_estimators': [8, 16, 24],\n",
              "                         'num_leaves': [6, 8, 12, 16]},\n",
              "             scoring='roc_auc')"
            ]
          },
          "metadata": {
            "tags": []
          },
          "execution_count": 62
        }
      ]
    },
    {
      "cell_type": "code",
      "metadata": {
        "id": "yMWA2ceN1OqT",
        "colab_type": "code",
        "colab": {
          "base_uri": "https://localhost:8080/",
          "height": 53
        },
        "outputId": "34dc2994-a5c3-4b73-bec6-17f6691bf99c"
      },
      "source": [
        "clf_2_gini_train=GINI(clf_2_search,y_train,X_train,'Treino')\n",
        "clf_2_gini_test=GINI(clf_2_search,y_test,X_test,'Teste')"
      ],
      "execution_count": null,
      "outputs": [
        {
          "output_type": "stream",
          "text": [
            "GINI Treino : 0.558199564084721\n",
            "GINI Teste : 0.557025340714661\n"
          ],
          "name": "stdout"
        }
      ]
    },
    {
      "cell_type": "markdown",
      "metadata": {
        "id": "ODMniBZB5FqD",
        "colab_type": "text"
      },
      "source": [
        "### Random Search:"
      ]
    },
    {
      "cell_type": "code",
      "metadata": {
        "id": "gkf6_sud5WHg",
        "colab_type": "code",
        "colab": {}
      },
      "source": [
        "clf_3 = lgbm.LGBMClassifier(random_state=semente_thiago)"
      ],
      "execution_count": null,
      "outputs": []
    },
    {
      "cell_type": "code",
      "metadata": {
        "id": "04_8LyMf5WJ2",
        "colab_type": "code",
        "colab": {
          "base_uri": "https://localhost:8080/",
          "height": 107
        },
        "outputId": "204c7f6b-82c6-41c5-b849-71b68c02434a"
      },
      "source": [
        "tree_param = {\n",
        "    'learning_rate': [0.005, 0.01],\n",
        "    'n_estimators': [8,16,24],\n",
        "    'num_leaves': [6,8,12,16],\n",
        "    }\n",
        "clf_3_search = RandomizedSearchCV(clf_3, tree_param,scoring='roc_auc', cv=5)\n",
        "clf_3_search.fit(X_train, y_train)"
      ],
      "execution_count": null,
      "outputs": [
        {
          "output_type": "execute_result",
          "data": {
            "text/plain": [
              "RandomizedSearchCV(cv=5, estimator=LGBMClassifier(random_state=2020),\n",
              "                   param_distributions={'learning_rate': [0.005, 0.01],\n",
              "                                        'n_estimators': [8, 16, 24],\n",
              "                                        'num_leaves': [6, 8, 12, 16]},\n",
              "                   scoring='roc_auc')"
            ]
          },
          "metadata": {
            "tags": []
          },
          "execution_count": 65
        }
      ]
    },
    {
      "cell_type": "code",
      "metadata": {
        "id": "F0eEfsps2pNh",
        "colab_type": "code",
        "colab": {
          "base_uri": "https://localhost:8080/",
          "height": 53
        },
        "outputId": "751d9941-a00e-4aec-d02c-3c5dbf50bfb5"
      },
      "source": [
        "clf_3_gini_train=GINI(clf_3_search,y_train,X_train,'Treino')\n",
        "clf_3_gini_test=GINI(clf_3_search,y_test,X_test,'Teste')"
      ],
      "execution_count": null,
      "outputs": [
        {
          "output_type": "stream",
          "text": [
            "GINI Treino : 0.558199564084721\n",
            "GINI Teste : 0.557025340714661\n"
          ],
          "name": "stdout"
        }
      ]
    },
    {
      "cell_type": "markdown",
      "metadata": {
        "id": "lgY1OLZy6i3s",
        "colab_type": "text"
      },
      "source": [
        "### Otimização Bayesiana:"
      ]
    },
    {
      "cell_type": "code",
      "metadata": {
        "id": "BuGHQKBxi5eX",
        "colab_type": "code",
        "colab": {
          "base_uri": "https://localhost:8080/",
          "height": 215
        },
        "outputId": "a0e5a11f-7dc7-4026-eb55-9bac5783261c"
      },
      "source": [
        "#Define a função que vamos ou maximizar ou minimizar\n",
        "#No caso queremos maximizar , portanto será necessário tratar a métrica de performance\n",
        "def objective(params):\n",
        "    params = {\n",
        "        'num_leaves': int(params['num_leaves']),\n",
        "        'colsample_bytree': '{:.3f}'.format(params['colsample_bytree']),\n",
        "    }\n",
        "    #Define o modelo\n",
        "    clf = lgbm.LGBMClassifier(\n",
        "        n_estimators=30,\n",
        "        learning_rate=0.01,\n",
        "        **params\n",
        "    )\n",
        "    #Faz o K-Fold \n",
        "    score = cross_val_score(clf, X_train, y_train, scoring='roc_auc', cv=StratifiedKFold()).mean()\n",
        "    print(\"Gini {:.3f} params {}\".format(score, params))\n",
        "    return score\n",
        "\n",
        "space = {\n",
        "    'num_leaves': hp.quniform('num_leaves', 8, 128, 2),\n",
        "    'colsample_bytree': hp.uniform('colsample_bytree', 0.3, 1.0),\n",
        "}\n",
        "\n",
        "best = fmin(fn=objective,\n",
        "            space=space,\n",
        "            algo=tpe.suggest,\n",
        "            max_evals=10)"
      ],
      "execution_count": null,
      "outputs": [
        {
          "output_type": "stream",
          "text": [
            "Gini 0.777 params {'num_leaves': 30, 'colsample_bytree': '0.746'}\n",
            "Gini 0.770 params {'num_leaves': 12, 'colsample_bytree': '0.477'}\n",
            "Gini 0.774 params {'num_leaves': 34, 'colsample_bytree': '0.409'}\n",
            "Gini 0.774 params {'num_leaves': 42, 'colsample_bytree': '0.426'}\n",
            "Gini 0.773 params {'num_leaves': 122, 'colsample_bytree': '0.969'}\n",
            "Gini 0.777 params {'num_leaves': 40, 'colsample_bytree': '0.840'}\n",
            "Gini 0.778 params {'num_leaves': 62, 'colsample_bytree': '0.673'}\n",
            "Gini 0.777 params {'num_leaves': 84, 'colsample_bytree': '0.588'}\n",
            "Gini 0.777 params {'num_leaves': 60, 'colsample_bytree': '0.616'}\n",
            "Gini 0.777 params {'num_leaves': 100, 'colsample_bytree': '0.767'}\n",
            "100%|██████████| 10/10 [00:14<00:00,  1.41s/it, best loss: 0.7701586709141486]\n"
          ],
          "name": "stdout"
        }
      ]
    },
    {
      "cell_type": "code",
      "metadata": {
        "id": "87czSKgcIALx",
        "colab_type": "code",
        "colab": {
          "base_uri": "https://localhost:8080/",
          "height": 35
        },
        "outputId": "241d8f0e-7a20-44f4-a8af-866523e3d03b"
      },
      "source": [
        "space_eval(best, space)"
      ],
      "execution_count": null,
      "outputs": [
        {
          "output_type": "execute_result",
          "data": {
            "text/plain": [
              "{'colsample_bytree': 0.47680832086403413, 'num_leaves': 12.0}"
            ]
          },
          "metadata": {
            "tags": []
          },
          "execution_count": 68
        }
      ]
    },
    {
      "cell_type": "markdown",
      "metadata": {
        "id": "4ewkV9zWEfKS",
        "colab_type": "text"
      },
      "source": [
        "#### Fita o Modelo e Mede a Performance"
      ]
    },
    {
      "cell_type": "code",
      "metadata": {
        "id": "kKduSHJqEmQr",
        "colab_type": "code",
        "colab": {
          "base_uri": "https://localhost:8080/",
          "height": 53
        },
        "outputId": "64c7d028-e90f-44c1-dcad-9d481e798bb1"
      },
      "source": [
        "clf_4 = lgbm.LGBMClassifier(colsample_bytree=0.47680832086403413,num_leaves=12,random_state=semente_thiago)\n",
        "clf_4.fit(X_train, y_train)"
      ],
      "execution_count": null,
      "outputs": [
        {
          "output_type": "execute_result",
          "data": {
            "text/plain": [
              "LGBMClassifier(colsample_bytree=0.47680832086403413, num_leaves=12,\n",
              "               random_state=2020)"
            ]
          },
          "metadata": {
            "tags": []
          },
          "execution_count": 69
        }
      ]
    },
    {
      "cell_type": "code",
      "metadata": {
        "id": "Y3BMCySM_Vl0",
        "colab_type": "code",
        "colab": {
          "base_uri": "https://localhost:8080/",
          "height": 53
        },
        "outputId": "3405905d-dad1-4a88-a1b7-1d4462addf33"
      },
      "source": [
        "clf_4_gini_train=GINI(clf_4,y_train,X_train,'Treino')\n",
        "clf_4_gini_test=GINI(clf_4,y_test,X_test,'Teste')"
      ],
      "execution_count": null,
      "outputs": [
        {
          "output_type": "stream",
          "text": [
            "GINI Treino : 0.6382610333476739\n",
            "GINI Teste : 0.5829309561348395\n"
          ],
          "name": "stdout"
        }
      ]
    },
    {
      "cell_type": "markdown",
      "metadata": {
        "id": "JuGDKFJ8JWFH",
        "colab_type": "text"
      },
      "source": [
        "# Compara as técnicas"
      ]
    },
    {
      "cell_type": "code",
      "metadata": {
        "id": "CsM0hqSqJVU4",
        "colab_type": "code",
        "colab": {
          "base_uri": "https://localhost:8080/",
          "height": 359
        },
        "outputId": "960b6b3e-ec26-4af6-ade4-1fdc71c98d37"
      },
      "source": [
        "print(\"#-----#-----#-----#-----#\")\n",
        "print(\"Comparação dos Modelos\")\n",
        "print(\"#-----#-----#-----#-----#\")\n",
        "print(\"Conhecimento de Negócio\")\n",
        "print(\"Treino : \"+str(clf_1_gini_train))\n",
        "print(\"Teste : \"+str(clf_1_gini_test))\n",
        "print(\"      #-----#-----#\")\n",
        "print(\"Grid Search\")\n",
        "print(\"Treino : \"+str(clf_2_gini_train))\n",
        "print(\"Teste : \"+str(clf_2_gini_test))\n",
        "print(\"      #-----#-----#\")\n",
        "print(\"Random Search\")\n",
        "print(\"Treino : \"+str(clf_3_gini_train))\n",
        "print(\"Teste : \"+str(clf_3_gini_test))\n",
        "print(\"      #-----#-----#\")\n",
        "print(\"Otimização Bayesiana\")\n",
        "print(\"Treino : \"+str(clf_4_gini_train))\n",
        "print(\"Teste : \"+str(clf_4_gini_test))\n",
        "print(\"#-----#-----#-----#-----#\")"
      ],
      "execution_count": null,
      "outputs": [
        {
          "output_type": "stream",
          "text": [
            "#-----#-----#-----#-----#\n",
            "Comparação dos Modelos\n",
            "#-----#-----#-----#-----#\n",
            "Conhecimento de Negócio\n",
            "Treino : 0.5971253021739229\n",
            "Teste : 0.5804962243797194\n",
            "      #-----#-----#\n",
            "Grid Search\n",
            "Treino : 0.558199564084721\n",
            "Teste : 0.557025340714661\n",
            "      #-----#-----#\n",
            "Random Search\n",
            "Treino : 0.558199564084721\n",
            "Teste : 0.557025340714661\n",
            "      #-----#-----#\n",
            "Otimização Bayesiana\n",
            "Treino : 0.6382610333476739\n",
            "Teste : 0.5829309561348395\n",
            "#-----#-----#-----#-----#\n"
          ],
          "name": "stdout"
        }
      ]
    }
  ]
}