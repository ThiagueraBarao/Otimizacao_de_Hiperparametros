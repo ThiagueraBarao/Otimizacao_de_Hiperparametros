{
  "nbformat": 4,
  "nbformat_minor": 0,
  "metadata": {
    "colab": {
      "name": "Decision_Tree_Otimizacao_Hiperparametros.ipynb",
      "provenance": [],
      "collapsed_sections": [],
      "authorship_tag": "ABX9TyN/eTK/ZwSB7aRRmeKDOqmi",
      "include_colab_link": true
    },
    "kernelspec": {
      "name": "python3",
      "display_name": "Python 3"
    }
  },
  "cells": [
    {
      "cell_type": "markdown",
      "metadata": {
        "id": "view-in-github",
        "colab_type": "text"
      },
      "source": [
        "<a href=\"https://colab.research.google.com/github/ThiagueraBarao/Otimizacao_de_Hiperparametros/blob/master/Decision_Tree_Otimizacao_Hiperparametros.ipynb\" target=\"_parent\"><img src=\"https://colab.research.google.com/assets/colab-badge.svg\" alt=\"Open In Colab\"/></a>"
      ]
    },
    {
      "cell_type": "markdown",
      "metadata": {
        "id": "2eb0vV5JvLQb",
        "colab_type": "text"
      },
      "source": [
        "# **Otimização de Hiperparâmetros**\n",
        "\n",
        "### Autor: Thiago do Carmo Nunes\n",
        "### Acesse em: [thiagocarmonunes.com.br](https://www.thiagocarmonunes.com.br/)\n",
        "#### Publicado em :  19-Jul-2020"
      ]
    },
    {
      "cell_type": "markdown",
      "metadata": {
        "id": "9DsPSsCwvRT9",
        "colab_type": "text"
      },
      "source": [
        "# **Aplicando o conhecimento em uma Árvore de Decisão**"
      ]
    },
    {
      "cell_type": "code",
      "metadata": {
        "id": "ATGJcjBKvLmf",
        "colab_type": "code",
        "colab": {}
      },
      "source": [
        "#Pacotes Utilizados\n",
        "import pandas as pd\n",
        "import numpy as np\n",
        "from sklearn.model_selection import train_test_split\n",
        "from sklearn import tree, metrics\n",
        "from sklearn.model_selection import GridSearchCV,RandomizedSearchCV,cross_val_score\n",
        "from sklearn.metrics import roc_auc_score\n",
        "from hyperopt import hp,tpe, fmin, STATUS_OK , space_eval"
      ],
      "execution_count": null,
      "outputs": []
    },
    {
      "cell_type": "code",
      "metadata": {
        "id": "oE9Op9x1wGwu",
        "colab_type": "code",
        "colab": {
          "base_uri": "https://localhost:8080/",
          "height": 224
        },
        "outputId": "47199ff6-6b55-420c-9a53-bd14d4f79459"
      },
      "source": [
        "#Leitura de Base\n",
        "df = pd.read_csv(\"/content/sample_data/UCI_Credit_Card.csv\")\n",
        "df.head()"
      ],
      "execution_count": null,
      "outputs": [
        {
          "output_type": "execute_result",
          "data": {
            "text/html": [
              "<div>\n",
              "<style scoped>\n",
              "    .dataframe tbody tr th:only-of-type {\n",
              "        vertical-align: middle;\n",
              "    }\n",
              "\n",
              "    .dataframe tbody tr th {\n",
              "        vertical-align: top;\n",
              "    }\n",
              "\n",
              "    .dataframe thead th {\n",
              "        text-align: right;\n",
              "    }\n",
              "</style>\n",
              "<table border=\"1\" class=\"dataframe\">\n",
              "  <thead>\n",
              "    <tr style=\"text-align: right;\">\n",
              "      <th></th>\n",
              "      <th>ID</th>\n",
              "      <th>LIMIT_BAL</th>\n",
              "      <th>SEX</th>\n",
              "      <th>EDUCATION</th>\n",
              "      <th>MARRIAGE</th>\n",
              "      <th>AGE</th>\n",
              "      <th>PAY_0</th>\n",
              "      <th>PAY_2</th>\n",
              "      <th>PAY_3</th>\n",
              "      <th>PAY_4</th>\n",
              "      <th>PAY_5</th>\n",
              "      <th>PAY_6</th>\n",
              "      <th>BILL_AMT1</th>\n",
              "      <th>BILL_AMT2</th>\n",
              "      <th>BILL_AMT3</th>\n",
              "      <th>BILL_AMT4</th>\n",
              "      <th>BILL_AMT5</th>\n",
              "      <th>BILL_AMT6</th>\n",
              "      <th>PAY_AMT1</th>\n",
              "      <th>PAY_AMT2</th>\n",
              "      <th>PAY_AMT3</th>\n",
              "      <th>PAY_AMT4</th>\n",
              "      <th>PAY_AMT5</th>\n",
              "      <th>PAY_AMT6</th>\n",
              "      <th>default.payment.next.month</th>\n",
              "    </tr>\n",
              "  </thead>\n",
              "  <tbody>\n",
              "    <tr>\n",
              "      <th>0</th>\n",
              "      <td>1</td>\n",
              "      <td>20000.0</td>\n",
              "      <td>2</td>\n",
              "      <td>2</td>\n",
              "      <td>1</td>\n",
              "      <td>24</td>\n",
              "      <td>2</td>\n",
              "      <td>2</td>\n",
              "      <td>-1</td>\n",
              "      <td>-1</td>\n",
              "      <td>-2</td>\n",
              "      <td>-2</td>\n",
              "      <td>3913.0</td>\n",
              "      <td>3102.0</td>\n",
              "      <td>689.0</td>\n",
              "      <td>0.0</td>\n",
              "      <td>0.0</td>\n",
              "      <td>0.0</td>\n",
              "      <td>0.0</td>\n",
              "      <td>689.0</td>\n",
              "      <td>0.0</td>\n",
              "      <td>0.0</td>\n",
              "      <td>0.0</td>\n",
              "      <td>0.0</td>\n",
              "      <td>1</td>\n",
              "    </tr>\n",
              "    <tr>\n",
              "      <th>1</th>\n",
              "      <td>2</td>\n",
              "      <td>120000.0</td>\n",
              "      <td>2</td>\n",
              "      <td>2</td>\n",
              "      <td>2</td>\n",
              "      <td>26</td>\n",
              "      <td>-1</td>\n",
              "      <td>2</td>\n",
              "      <td>0</td>\n",
              "      <td>0</td>\n",
              "      <td>0</td>\n",
              "      <td>2</td>\n",
              "      <td>2682.0</td>\n",
              "      <td>1725.0</td>\n",
              "      <td>2682.0</td>\n",
              "      <td>3272.0</td>\n",
              "      <td>3455.0</td>\n",
              "      <td>3261.0</td>\n",
              "      <td>0.0</td>\n",
              "      <td>1000.0</td>\n",
              "      <td>1000.0</td>\n",
              "      <td>1000.0</td>\n",
              "      <td>0.0</td>\n",
              "      <td>2000.0</td>\n",
              "      <td>1</td>\n",
              "    </tr>\n",
              "    <tr>\n",
              "      <th>2</th>\n",
              "      <td>3</td>\n",
              "      <td>90000.0</td>\n",
              "      <td>2</td>\n",
              "      <td>2</td>\n",
              "      <td>2</td>\n",
              "      <td>34</td>\n",
              "      <td>0</td>\n",
              "      <td>0</td>\n",
              "      <td>0</td>\n",
              "      <td>0</td>\n",
              "      <td>0</td>\n",
              "      <td>0</td>\n",
              "      <td>29239.0</td>\n",
              "      <td>14027.0</td>\n",
              "      <td>13559.0</td>\n",
              "      <td>14331.0</td>\n",
              "      <td>14948.0</td>\n",
              "      <td>15549.0</td>\n",
              "      <td>1518.0</td>\n",
              "      <td>1500.0</td>\n",
              "      <td>1000.0</td>\n",
              "      <td>1000.0</td>\n",
              "      <td>1000.0</td>\n",
              "      <td>5000.0</td>\n",
              "      <td>0</td>\n",
              "    </tr>\n",
              "    <tr>\n",
              "      <th>3</th>\n",
              "      <td>4</td>\n",
              "      <td>50000.0</td>\n",
              "      <td>2</td>\n",
              "      <td>2</td>\n",
              "      <td>1</td>\n",
              "      <td>37</td>\n",
              "      <td>0</td>\n",
              "      <td>0</td>\n",
              "      <td>0</td>\n",
              "      <td>0</td>\n",
              "      <td>0</td>\n",
              "      <td>0</td>\n",
              "      <td>46990.0</td>\n",
              "      <td>48233.0</td>\n",
              "      <td>49291.0</td>\n",
              "      <td>28314.0</td>\n",
              "      <td>28959.0</td>\n",
              "      <td>29547.0</td>\n",
              "      <td>2000.0</td>\n",
              "      <td>2019.0</td>\n",
              "      <td>1200.0</td>\n",
              "      <td>1100.0</td>\n",
              "      <td>1069.0</td>\n",
              "      <td>1000.0</td>\n",
              "      <td>0</td>\n",
              "    </tr>\n",
              "    <tr>\n",
              "      <th>4</th>\n",
              "      <td>5</td>\n",
              "      <td>50000.0</td>\n",
              "      <td>1</td>\n",
              "      <td>2</td>\n",
              "      <td>1</td>\n",
              "      <td>57</td>\n",
              "      <td>-1</td>\n",
              "      <td>0</td>\n",
              "      <td>-1</td>\n",
              "      <td>0</td>\n",
              "      <td>0</td>\n",
              "      <td>0</td>\n",
              "      <td>8617.0</td>\n",
              "      <td>5670.0</td>\n",
              "      <td>35835.0</td>\n",
              "      <td>20940.0</td>\n",
              "      <td>19146.0</td>\n",
              "      <td>19131.0</td>\n",
              "      <td>2000.0</td>\n",
              "      <td>36681.0</td>\n",
              "      <td>10000.0</td>\n",
              "      <td>9000.0</td>\n",
              "      <td>689.0</td>\n",
              "      <td>679.0</td>\n",
              "      <td>0</td>\n",
              "    </tr>\n",
              "  </tbody>\n",
              "</table>\n",
              "</div>"
            ],
            "text/plain": [
              "   ID  LIMIT_BAL  SEX  ...  PAY_AMT5  PAY_AMT6  default.payment.next.month\n",
              "0   1    20000.0    2  ...       0.0       0.0                           1\n",
              "1   2   120000.0    2  ...       0.0    2000.0                           1\n",
              "2   3    90000.0    2  ...    1000.0    5000.0                           0\n",
              "3   4    50000.0    2  ...    1069.0    1000.0                           0\n",
              "4   5    50000.0    1  ...     689.0     679.0                           0\n",
              "\n",
              "[5 rows x 25 columns]"
            ]
          },
          "metadata": {
            "tags": []
          },
          "execution_count": 262
        }
      ]
    },
    {
      "cell_type": "code",
      "metadata": {
        "id": "ze_dwXcKwI5y",
        "colab_type": "code",
        "colab": {}
      },
      "source": [
        "#Obs: Não foram feitos os tratamentos de base porque o objetivo é somente mostrar a otimização de hiperparâmetros\n",
        "#Substitui os missings por -99\n",
        "df.fillna(-99,inplace=True)"
      ],
      "execution_count": null,
      "outputs": []
    },
    {
      "cell_type": "code",
      "metadata": {
        "id": "wmwRKlgMwZaj",
        "colab_type": "code",
        "colab": {}
      },
      "source": [
        "#Separa as variáveis em X e y\n",
        "X = df.iloc[:, 1:-1]\n",
        "y = df.iloc[:, -1]"
      ],
      "execution_count": null,
      "outputs": []
    },
    {
      "cell_type": "code",
      "metadata": {
        "id": "5M4HMQQCwso7",
        "colab_type": "code",
        "colab": {}
      },
      "source": [
        "#Não esqueça da semente\n",
        "semente_thiago = 2020"
      ],
      "execution_count": null,
      "outputs": []
    },
    {
      "cell_type": "code",
      "metadata": {
        "id": "zvsZi2GPwcNk",
        "colab_type": "code",
        "colab": {}
      },
      "source": [
        "#Separa em bases de Treino Teste e Validação\n",
        "#Treino: 60%\n",
        "#Validação: 20%\n",
        "#Teste: 20%\n",
        "X_train, X_test, y_train, y_test = train_test_split(X, y, test_size=0.2, random_state=semente_thiago)\n",
        "X_train, X_val, y_train, y_val = train_test_split(X_train, y_train, test_size=0.25, random_state=semente_thiago) # 0.25 x 0.8 = 0.2"
      ],
      "execution_count": null,
      "outputs": []
    },
    {
      "cell_type": "code",
      "metadata": {
        "id": "7loB7UEKw6qK",
        "colab_type": "code",
        "colab": {
          "base_uri": "https://localhost:8080/",
          "height": 125
        },
        "outputId": "c37f2fd4-43fc-4d14-f239-3f64f31484b1"
      },
      "source": [
        "#Checa o tamanho das bases\n",
        "print('Train X : '+str(X_train.shape))\n",
        "print('Valid X : '+str(X_val.shape))\n",
        "print('Test X : '+str(X_test.shape))\n",
        "print('Train y : '+str(y_train.shape))\n",
        "print('Valid y : '+str(y_val.shape))\n",
        "print('Test y : '+str(y_test.shape))"
      ],
      "execution_count": null,
      "outputs": [
        {
          "output_type": "stream",
          "text": [
            "Train X : (18000, 23)\n",
            "Valid X : (6000, 23)\n",
            "Test X : (6000, 23)\n",
            "Train y : (18000,)\n",
            "Valid y : (6000,)\n",
            "Test y : (6000,)\n"
          ],
          "name": "stdout"
        }
      ]
    },
    {
      "cell_type": "markdown",
      "metadata": {
        "id": "TQMTJJx7x8ta",
        "colab_type": "text"
      },
      "source": [
        "## Árvore de Decisão"
      ]
    },
    {
      "cell_type": "markdown",
      "metadata": {
        "id": "Xve5sM1mx82P",
        "colab_type": "text"
      },
      "source": [
        "### Parâmetros\n",
        "\n",
        "* criterion='gini'\n",
        "> {“gini”, “entropy”}\n",
        "* splitter='best' \n",
        "> {“best”, “random”}\n",
        "* max_depth=None \n",
        "> {2:inf}\n",
        "* max_features=None\n",
        "> {“auto”, “sqrt”, “log2”}\n"
      ]
    },
    {
      "cell_type": "code",
      "metadata": {
        "id": "dKUHv4vVyDl9",
        "colab_type": "code",
        "colab": {}
      },
      "source": [
        "#Escolha do Modelo - Árvore de Decisão\n",
        "#clf = tree.DecisionTreeClassifier()"
      ],
      "execution_count": null,
      "outputs": []
    },
    {
      "cell_type": "markdown",
      "metadata": {
        "id": "gG2Ryhl2yiMy",
        "colab_type": "text"
      },
      "source": [
        "## Escolha dos Hiperparâmetros:"
      ]
    },
    {
      "cell_type": "markdown",
      "metadata": {
        "id": "dwy9iwKpywVJ",
        "colab_type": "text"
      },
      "source": [
        "### Conhecimento de Negócio:"
      ]
    },
    {
      "cell_type": "code",
      "metadata": {
        "id": "mzvW7T8iycR2",
        "colab_type": "code",
        "colab": {}
      },
      "source": [
        "#Estima o Modelo:\n",
        "clf_1 = tree.DecisionTreeClassifier(\n",
        "                                    criterion='gini',\n",
        "                                    splitter='best',\n",
        "                                    max_depth=4,\n",
        "                                    max_features=None)\n",
        "clf_1 = clf_1.fit(X_train, y_train)"
      ],
      "execution_count": null,
      "outputs": []
    },
    {
      "cell_type": "code",
      "metadata": {
        "id": "tgLV7log0Fvv",
        "colab_type": "code",
        "colab": {}
      },
      "source": [
        "def GINI(classificador,y,X,safra):\n",
        "  fpr, tpr, thresholds = metrics.roc_curve(y, classificador.predict_proba(X)[:,1])\n",
        "  ROC_1 = roc_auc_score(y, classificador.predict_proba(X)[:,1])\n",
        "  print(\"GINI \"+safra+\" : \"+str(2*ROC_1-1))\n",
        "  return((2*ROC_1-1))"
      ],
      "execution_count": null,
      "outputs": []
    },
    {
      "cell_type": "code",
      "metadata": {
        "id": "sQLC0eHN0MHI",
        "colab_type": "code",
        "colab": {
          "base_uri": "https://localhost:8080/",
          "height": 71
        },
        "outputId": "7eb48b73-2f42-41ce-bd56-6942f5efef98"
      },
      "source": [
        "clf_1_gini_train=GINI(clf_1,y_train,X_train,'Treino')\n",
        "GINI(clf_1,y_val,X_val,'Validação')\n",
        "clf_1_gini_test=GINI(clf_1,y_test,X_test,'Teste')"
      ],
      "execution_count": null,
      "outputs": [
        {
          "output_type": "stream",
          "text": [
            "GINI Treino : 0.4954620595206256\n",
            "GINI Validação : 0.47993752752363483\n",
            "GINI Teste : 0.4973788383497122\n"
          ],
          "name": "stdout"
        }
      ]
    },
    {
      "cell_type": "markdown",
      "metadata": {
        "id": "1RpIzd-23J6E",
        "colab_type": "text"
      },
      "source": [
        "### As demais técnicas vão utilizar K-Fold , portanto não é necessário mais separar a base de treino em (Treino & Validação)"
      ]
    },
    {
      "cell_type": "code",
      "metadata": {
        "id": "L8BGwerJ3YIZ",
        "colab_type": "code",
        "colab": {}
      },
      "source": [
        "X_train, X_test, y_train, y_test = train_test_split(X, y, test_size=0.2, random_state=semente_thiago)"
      ],
      "execution_count": null,
      "outputs": []
    },
    {
      "cell_type": "code",
      "metadata": {
        "id": "zS7JGgiv4NzI",
        "colab_type": "code",
        "colab": {
          "base_uri": "https://localhost:8080/",
          "height": 89
        },
        "outputId": "e4dbf5b3-6b5b-43a0-9db3-6deceb220d52"
      },
      "source": [
        "#Checa o tamanho das bases\n",
        "print('Train X : '+str(X_train.shape))\n",
        "print('Test X : '+str(X_test.shape))\n",
        "print('Train y : '+str(y_train.shape))\n",
        "print('Test y : '+str(y_test.shape))"
      ],
      "execution_count": null,
      "outputs": [
        {
          "output_type": "stream",
          "text": [
            "Train X : (24000, 23)\n",
            "Test X : (6000, 23)\n",
            "Train y : (24000,)\n",
            "Test y : (6000,)\n"
          ],
          "name": "stdout"
        }
      ]
    },
    {
      "cell_type": "markdown",
      "metadata": {
        "id": "oXII8zZp1DCs",
        "colab_type": "text"
      },
      "source": [
        "### Grid Search:"
      ]
    },
    {
      "cell_type": "code",
      "metadata": {
        "id": "AVRqxjDZ1Nab",
        "colab_type": "code",
        "colab": {}
      },
      "source": [
        "clf_2 = tree.DecisionTreeClassifier(random_state=semente_thiago)"
      ],
      "execution_count": null,
      "outputs": []
    },
    {
      "cell_type": "code",
      "metadata": {
        "id": "31t5lhA7zXpo",
        "colab_type": "code",
        "colab": {
          "base_uri": "https://localhost:8080/",
          "height": 377
        },
        "outputId": "37fcf777-39d5-4f97-d310-816da48d426a"
      },
      "source": [
        "#Define os parametros para percorrer:\n",
        "tree_param = {'criterion' : ['gini','entropy'],\n",
        "              'splitter' : ['best', 'random'],\n",
        "              'max_depth' : list(range(3, 15)),\n",
        "              'max_features' : [\"auto\", \"sqrt\", \"log2\"],\n",
        "             }\n",
        "clf_2_search = GridSearchCV(clf_2, tree_param,scoring='roc_auc', cv=5)\n",
        "clf_2_search.fit(X_train, y_train)"
      ],
      "execution_count": null,
      "outputs": [
        {
          "output_type": "execute_result",
          "data": {
            "text/plain": [
              "GridSearchCV(cv=5, error_score=nan,\n",
              "             estimator=DecisionTreeClassifier(ccp_alpha=0.0, class_weight=None,\n",
              "                                              criterion='gini', max_depth=None,\n",
              "                                              max_features=None,\n",
              "                                              max_leaf_nodes=None,\n",
              "                                              min_impurity_decrease=0.0,\n",
              "                                              min_impurity_split=None,\n",
              "                                              min_samples_leaf=1,\n",
              "                                              min_samples_split=2,\n",
              "                                              min_weight_fraction_leaf=0.0,\n",
              "                                              presort='deprecated',\n",
              "                                              random_state=2020,\n",
              "                                              splitter='best'),\n",
              "             iid='deprecated', n_jobs=None,\n",
              "             param_grid={'criterion': ['gini', 'entropy'],\n",
              "                         'max_depth': [3, 4, 5, 6, 7, 8, 9, 10, 11, 12, 13, 14],\n",
              "                         'max_features': ['auto', 'sqrt', 'log2'],\n",
              "                         'splitter': ['best', 'random']},\n",
              "             pre_dispatch='2*n_jobs', refit=True, return_train_score=False,\n",
              "             scoring='roc_auc', verbose=0)"
            ]
          },
          "metadata": {
            "tags": []
          },
          "execution_count": 275
        }
      ]
    },
    {
      "cell_type": "code",
      "metadata": {
        "id": "yMWA2ceN1OqT",
        "colab_type": "code",
        "colab": {
          "base_uri": "https://localhost:8080/",
          "height": 53
        },
        "outputId": "07833334-9fb3-4a2e-cb71-5b9546fa1cc4"
      },
      "source": [
        "clf_2_gini_train=GINI(clf_2_search,y_train,X_train,'Treino')\n",
        "clf_2_gini_test=GINI(clf_2_search,y_test,X_test,'Teste')"
      ],
      "execution_count": null,
      "outputs": [
        {
          "output_type": "stream",
          "text": [
            "GINI Treino : 0.561115278935971\n",
            "GINI Teste : 0.49463620881096637\n"
          ],
          "name": "stdout"
        }
      ]
    },
    {
      "cell_type": "markdown",
      "metadata": {
        "id": "ODMniBZB5FqD",
        "colab_type": "text"
      },
      "source": [
        "### Random Search:"
      ]
    },
    {
      "cell_type": "code",
      "metadata": {
        "id": "gkf6_sud5WHg",
        "colab_type": "code",
        "colab": {}
      },
      "source": [
        "clf_3 = tree.DecisionTreeClassifier(random_state=semente_thiago)"
      ],
      "execution_count": null,
      "outputs": []
    },
    {
      "cell_type": "code",
      "metadata": {
        "id": "04_8LyMf5WJ2",
        "colab_type": "code",
        "colab": {
          "base_uri": "https://localhost:8080/",
          "height": 449
        },
        "outputId": "1a3a40b5-5e88-499f-b883-5b5e48c4ddd4"
      },
      "source": [
        "tree_param = {'criterion' : ['gini','entropy'],\n",
        "              'splitter' : ['best', 'random'],\n",
        "              'max_depth' : list(range(3, 15)),\n",
        "              'max_features' : [\"auto\", \"sqrt\", \"log2\"],\n",
        "             }\n",
        "clf_3_search = RandomizedSearchCV(clf_3, tree_param,scoring='roc_auc', cv=5)\n",
        "clf_3_search.fit(X_train, y_train)"
      ],
      "execution_count": null,
      "outputs": [
        {
          "output_type": "execute_result",
          "data": {
            "text/plain": [
              "RandomizedSearchCV(cv=5, error_score=nan,\n",
              "                   estimator=DecisionTreeClassifier(ccp_alpha=0.0,\n",
              "                                                    class_weight=None,\n",
              "                                                    criterion='gini',\n",
              "                                                    max_depth=None,\n",
              "                                                    max_features=None,\n",
              "                                                    max_leaf_nodes=None,\n",
              "                                                    min_impurity_decrease=0.0,\n",
              "                                                    min_impurity_split=None,\n",
              "                                                    min_samples_leaf=1,\n",
              "                                                    min_samples_split=2,\n",
              "                                                    min_weight_fraction_leaf=0.0,\n",
              "                                                    presort='deprecated',\n",
              "                                                    random_state=2020,\n",
              "                                                    splitter='best'),\n",
              "                   iid='deprecated', n_iter=10, n_jobs=None,\n",
              "                   param_distributions={'criterion': ['gini', 'entropy'],\n",
              "                                        'max_depth': [3, 4, 5, 6, 7, 8, 9, 10,\n",
              "                                                      11, 12, 13, 14],\n",
              "                                        'max_features': ['auto', 'sqrt',\n",
              "                                                         'log2'],\n",
              "                                        'splitter': ['best', 'random']},\n",
              "                   pre_dispatch='2*n_jobs', random_state=None, refit=True,\n",
              "                   return_train_score=False, scoring='roc_auc', verbose=0)"
            ]
          },
          "metadata": {
            "tags": []
          },
          "execution_count": 278
        }
      ]
    },
    {
      "cell_type": "code",
      "metadata": {
        "id": "F0eEfsps2pNh",
        "colab_type": "code",
        "colab": {
          "base_uri": "https://localhost:8080/",
          "height": 53
        },
        "outputId": "25b81d57-fe60-4ae2-f88c-9373cd9fd87e"
      },
      "source": [
        "clf_3_gini_train=GINI(clf_3_search,y_train,X_train,'Treino')\n",
        "clf_3_gini_test=GINI(clf_3_search,y_test,X_test,'Teste')"
      ],
      "execution_count": null,
      "outputs": [
        {
          "output_type": "stream",
          "text": [
            "GINI Treino : 0.427205147815259\n",
            "GINI Teste : 0.46581299319163416\n"
          ],
          "name": "stdout"
        }
      ]
    },
    {
      "cell_type": "markdown",
      "metadata": {
        "id": "lgY1OLZy6i3s",
        "colab_type": "text"
      },
      "source": [
        "### Otimização Bayesiana:"
      ]
    },
    {
      "cell_type": "markdown",
      "metadata": {
        "id": "xD4sxkAv-lM5",
        "colab_type": "text"
      },
      "source": [
        "#### Define função de custo"
      ]
    },
    {
      "cell_type": "code",
      "metadata": {
        "id": "c42AmLID7RLf",
        "colab_type": "code",
        "colab": {}
      },
      "source": [
        "#Define a função que vamos ou maximizar ou minimizar\n",
        "#No caso queremos maximizar , portanto será necessário tratar a métrica de performance\n",
        "def custo(params):\n",
        "    #Define o modelo\n",
        "    modelo = tree.DecisionTreeClassifier(**params,random_state=semente_thiago)\n",
        "    #Faz o K-Fold \n",
        "    score = -cross_val_score(modelo, X_train, y_train, cv=5, scoring=\"roc_auc\", n_jobs=-1).mean()\n",
        "    GINI = (2*-score)-1\n",
        "    print(params)\n",
        "    print('GINI : '+str(GINI))\n",
        "    #Retorna para o Hyperopt o parametro\n",
        "    return {'loss': score,'status':STATUS_OK}"
      ],
      "execution_count": null,
      "outputs": []
    },
    {
      "cell_type": "markdown",
      "metadata": {
        "id": "3ktNKRxB-oqt",
        "colab_type": "text"
      },
      "source": [
        "#### Define o range de parametros"
      ]
    },
    {
      "cell_type": "code",
      "metadata": {
        "id": "NJoskRJ1-vLT",
        "colab_type": "code",
        "colab": {}
      },
      "source": [
        "params={'criterion' : hp.choice('criterion',['gini','entropy']),\n",
        "        'splitter' : hp.choice('splitter',['best', 'random']),\n",
        "        'max_depth' : hp.choice('max_depth',range(3, 15)),\n",
        "        'max_features' : hp.choice('max_features',[\"auto\", \"sqrt\", \"log2\"]),\n",
        "        }"
      ],
      "execution_count": null,
      "outputs": []
    },
    {
      "cell_type": "markdown",
      "metadata": {
        "id": "v7CCOmaI_T5-",
        "colab_type": "text"
      },
      "source": [
        "#### Otimização"
      ]
    },
    {
      "cell_type": "code",
      "metadata": {
        "id": "JPmCv83F7xJZ",
        "colab_type": "code",
        "colab": {
          "base_uri": "https://localhost:8080/",
          "height": 395
        },
        "outputId": "6fd2859e-ccff-4ae8-e119-7ace9c621234"
      },
      "source": [
        "melhor_parametro = fmin(custo, params, algo=tpe.suggest,max_evals=10)"
      ],
      "execution_count": null,
      "outputs": [
        {
          "output_type": "stream",
          "text": [
            "{'criterion': 'gini', 'max_depth': 5, 'max_features': 'log2', 'splitter': 'random'}\n",
            "GINI : 0.3302264759871434\n",
            "{'criterion': 'entropy', 'max_depth': 7, 'max_features': 'auto', 'splitter': 'best'}\n",
            "GINI : 0.4668559690078904\n",
            "{'criterion': 'gini', 'max_depth': 9, 'max_features': 'auto', 'splitter': 'random'}\n",
            "GINI : 0.38442162799986557\n",
            "{'criterion': 'entropy', 'max_depth': 7, 'max_features': 'sqrt', 'splitter': 'best'}\n",
            "GINI : 0.4668559690078904\n",
            "{'criterion': 'entropy', 'max_depth': 9, 'max_features': 'log2', 'splitter': 'best'}\n",
            "GINI : 0.44024385092586793\n",
            "{'criterion': 'gini', 'max_depth': 3, 'max_features': 'log2', 'splitter': 'best'}\n",
            "GINI : 0.32650073089802745\n",
            "{'criterion': 'gini', 'max_depth': 13, 'max_features': 'sqrt', 'splitter': 'random'}\n",
            "GINI : 0.42799163796152806\n",
            "{'criterion': 'entropy', 'max_depth': 5, 'max_features': 'log2', 'splitter': 'best'}\n",
            "GINI : 0.3983199916655269\n",
            "{'criterion': 'entropy', 'max_depth': 14, 'max_features': 'log2', 'splitter': 'best'}\n",
            "GINI : 0.31984421722051937\n",
            "{'criterion': 'entropy', 'max_depth': 6, 'max_features': 'log2', 'splitter': 'best'}\n",
            "GINI : 0.41243207823936645\n",
            "100%|██████████| 10/10 [00:05<00:00,  1.89it/s, best loss: -0.7334279845039452]\n"
          ],
          "name": "stdout"
        }
      ]
    },
    {
      "cell_type": "code",
      "metadata": {
        "id": "87czSKgcIALx",
        "colab_type": "code",
        "colab": {
          "base_uri": "https://localhost:8080/",
          "height": 89
        },
        "outputId": "0ecdbf3b-752a-4ba4-9e33-87f696702952"
      },
      "source": [
        "space_eval(params, melhor_parametro)"
      ],
      "execution_count": null,
      "outputs": [
        {
          "output_type": "execute_result",
          "data": {
            "text/plain": [
              "{'criterion': 'entropy',\n",
              " 'max_depth': 7,\n",
              " 'max_features': 'auto',\n",
              " 'splitter': 'best'}"
            ]
          },
          "metadata": {
            "tags": []
          },
          "execution_count": 283
        }
      ]
    },
    {
      "cell_type": "markdown",
      "metadata": {
        "id": "4ewkV9zWEfKS",
        "colab_type": "text"
      },
      "source": [
        "#### Fita o Modelo e Mede a Performance"
      ]
    },
    {
      "cell_type": "code",
      "metadata": {
        "id": "kKduSHJqEmQr",
        "colab_type": "code",
        "colab": {
          "base_uri": "https://localhost:8080/",
          "height": 125
        },
        "outputId": "73029881-8a59-4d38-d4cb-a671e8a1bafc"
      },
      "source": [
        "clf_4 = tree.DecisionTreeClassifier(**space_eval(params, melhor_parametro),random_state=semente_thiago)\n",
        "clf_4.fit(X_train, y_train)"
      ],
      "execution_count": null,
      "outputs": [
        {
          "output_type": "execute_result",
          "data": {
            "text/plain": [
              "DecisionTreeClassifier(ccp_alpha=0.0, class_weight=None, criterion='entropy',\n",
              "                       max_depth=7, max_features='auto', max_leaf_nodes=None,\n",
              "                       min_impurity_decrease=0.0, min_impurity_split=None,\n",
              "                       min_samples_leaf=1, min_samples_split=2,\n",
              "                       min_weight_fraction_leaf=0.0, presort='deprecated',\n",
              "                       random_state=2020, splitter='best')"
            ]
          },
          "metadata": {
            "tags": []
          },
          "execution_count": 284
        }
      ]
    },
    {
      "cell_type": "code",
      "metadata": {
        "id": "Y3BMCySM_Vl0",
        "colab_type": "code",
        "colab": {
          "base_uri": "https://localhost:8080/",
          "height": 53
        },
        "outputId": "9458a7b1-746f-41ed-c8d6-f3c3bed096c0"
      },
      "source": [
        "clf_4_gini_train=GINI(clf_4,y_train,X_train,'Treino')\n",
        "clf_4_gini_test=GINI(clf_4,y_test,X_test,'Teste')"
      ],
      "execution_count": null,
      "outputs": [
        {
          "output_type": "stream",
          "text": [
            "GINI Treino : 0.5124659697277445\n",
            "GINI Teste : 0.4877906990528347\n"
          ],
          "name": "stdout"
        }
      ]
    },
    {
      "cell_type": "markdown",
      "metadata": {
        "id": "JuGDKFJ8JWFH",
        "colab_type": "text"
      },
      "source": [
        "# Compara as técnicas"
      ]
    },
    {
      "cell_type": "code",
      "metadata": {
        "id": "CsM0hqSqJVU4",
        "colab_type": "code",
        "colab": {
          "base_uri": "https://localhost:8080/",
          "height": 359
        },
        "outputId": "78934c04-4ab6-47d2-9040-8d7f7f2ba55a"
      },
      "source": [
        "print(\"#-----#-----#-----#-----#\")\n",
        "print(\"Comparação dos Modelos\")\n",
        "print(\"#-----#-----#-----#-----#\")\n",
        "print(\"Conhecimento de Negócio\")\n",
        "print(\"Treino : \"+str(clf_1_gini_train))\n",
        "print(\"Teste : \"+str(clf_1_gini_test))\n",
        "print(\"      #-----#-----#\")\n",
        "print(\"Grid Search\")\n",
        "print(\"Treino : \"+str(clf_2_gini_train))\n",
        "print(\"Teste : \"+str(clf_2_gini_test))\n",
        "print(\"      #-----#-----#\")\n",
        "print(\"Random Search\")\n",
        "print(\"Treino : \"+str(clf_3_gini_train))\n",
        "print(\"Teste : \"+str(clf_3_gini_test))\n",
        "print(\"      #-----#-----#\")\n",
        "print(\"Otimização Bayesiana\")\n",
        "print(\"Treino : \"+str(clf_4_gini_train))\n",
        "print(\"Teste : \"+str(clf_4_gini_test))\n",
        "print(\"#-----#-----#-----#-----#\")"
      ],
      "execution_count": null,
      "outputs": [
        {
          "output_type": "stream",
          "text": [
            "#-----#-----#-----#-----#\n",
            "Comparação dos Modelos\n",
            "#-----#-----#-----#-----#\n",
            "Conhecimento de Negócio\n",
            "Treino : 0.4954620595206256\n",
            "Teste : 0.4973788383497122\n",
            "      #-----#-----#\n",
            "Grid Search\n",
            "Treino : 0.561115278935971\n",
            "Teste : 0.49463620881096637\n",
            "      #-----#-----#\n",
            "Random Search\n",
            "Treino : 0.427205147815259\n",
            "Teste : 0.46581299319163416\n",
            "      #-----#-----#\n",
            "Otimização Bayesiana\n",
            "Treino : 0.5124659697277445\n",
            "Teste : 0.4877906990528347\n",
            "#-----#-----#-----#-----#\n"
          ],
          "name": "stdout"
        }
      ]
    }
  ]
}